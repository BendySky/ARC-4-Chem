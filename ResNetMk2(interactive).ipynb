{
  "nbformat": 4,
  "nbformat_minor": 0,
  "metadata": {
    "colab": {
      "name": "ResNetMk2(interactive).ipynb",
      "provenance": [],
      "collapsed_sections": []
    },
    "kernelspec": {
      "name": "python3",
      "display_name": "Python 3"
    },
    "accelerator": "GPU"
  },
  "cells": [
    {
      "cell_type": "markdown",
      "metadata": {
        "id": "-5YmGb8ehfin"
      },
      "source": [
        "#**ResNet CNN with Google Colab**\n",
        "\n",
        "This is Mk I of the ResNet CNN used in the Google Colab workspace. "
      ]
    },
    {
      "cell_type": "code",
      "metadata": {
        "id": "vHlk-WXh0cTm",
        "colab": {
          "base_uri": "https://localhost:8080/"
        },
        "cellView": "form",
        "outputId": "b8fa1ea2-73ac-4531-ee23-e31e50ea43ca"
      },
      "source": [
        "#@title 1.0 Mount the Drive and import all necessary packages\n",
        "\n",
        "import tensorflow as tf\n",
        "from tensorflow import keras\n",
        "from google.colab import drive\n",
        "from tensorflow.keras import layers, models\n",
        "from pandas import DataFrame\n",
        "import gspread\n",
        "import pandas as pd\n",
        "import numpy as np\n",
        "from oauth2client.service_account import ServiceAccountCredentials\n",
        "import pickle\n",
        "import pywt\n",
        "\n",
        "drive.mount('/content/gdrive')"
      ],
      "execution_count": 1,
      "outputs": [
        {
          "output_type": "stream",
          "text": [
            "Mounted at /content/gdrive\n"
          ],
          "name": "stdout"
        }
      ]
    },
    {
      "cell_type": "markdown",
      "metadata": {
        "id": "UhXRz6CtB3Rq"
      },
      "source": [
        "##2.0 Load Training/Testing Data\n",
        "First we need to specify the filepath for each of the training and testing datasets. Check the /contents/gdrive directory to the left and copy the path that each dataset is in. To download data of the 5 amino acids we trained our network on, click here..."
      ]
    },
    {
      "cell_type": "markdown",
      "metadata": {
        "id": "S4spC1pBa1hP"
      },
      "source": [
        "### 2.1 Training Datasets"
      ]
    },
    {
      "cell_type": "code",
      "metadata": {
        "colab": {
          "base_uri": "https://localhost:8080/"
        },
        "cellView": "form",
        "id": "Twv28pjiUCSe",
        "outputId": "a6f402f0-8603-456e-e36f-6d370dd1f7d5"
      },
      "source": [
        "Training_Data_One = \"/content/gdrive/MyDrive/RamanSpectra/ImageScans/Amino Acids/Asparagine.csv\" #@param {type:\"raw\"}\n",
        "Training_Data_Two = \"/content/gdrive/MyDrive/RamanSpectra/ImageScans/Amino Acids/Histidine.csv\" #@param {type:\"raw\"}\n",
        "Training_Data_Three = \"/content/gdrive/MyDrive/RamanSpectra/ImageScans/Amino Acids/Glycine.csv\" #@param {type:\"raw\"}\n",
        "Training_Data_Four = \"/content/gdrive/MyDrive/RamanSpectra/ImageScans/Amino Acids/Leucine.csv\" #@param {type:\"raw\"}\n",
        "Training_Data_Five = \"/content/gdrive/MyDrive/RamanSpectra/ImageScans/Amino Acids/Lysine.csv\" #@param {type:\"raw\"}\n",
        "#Training_Data_Six = \"/content/gdrive/MyDrive/RamanSpectra/ImageScans/Chloroquine.csv\" #@param {type:\"raw\"}\n",
        "\n",
        "training1 = pd.read_csv(Training_Data_One)\n",
        "training2 = pd.read_csv(Training_Data_Two)\n",
        "training3 = pd.read_csv(Training_Data_Three)\n",
        "training4 = pd.read_csv(Training_Data_Four)\n",
        "training5 = pd.read_csv(Training_Data_Five)\n",
        "#training6 = pd.read_csv(Training_Data_Six)"
      ],
      "execution_count": 13,
      "outputs": [
        {
          "output_type": "stream",
          "text": [
            "/usr/local/lib/python3.6/dist-packages/IPython/core/interactiveshell.py:2718: DtypeWarning: Columns (0,1,2,3,4,5,6,7,8,9,10,11,12,13,14,15,16,17,18,19,20,21,22,23,24,25,26,27,28,29,30,31,32,33,34,35,36,37,38,39,40,41,42,43,44,45,46,47,48,49,50,51,52,53,54,55,56,57,58,59,60,61,62,63,64,65,66,67,68,69,70,71,72,73,74,75,76,77,78,79,80,81,82,83,84,85,86,87,88,89,90,91,92,93,94,95,96,97,98,99,100,101,102,103,104,105,106,107,108,109,110,111,112,113,114,115,116,117,118,119,120,121,122,123,124,125,126,127,128,129,130,131,132,133,134,135,136,137,138,139,140,141,142,143,144,145,146,147,148,149,150,151,152,153,154,155,156,157,158,159,160,161,162,163,164,165,166,167,168,169,170,171,172,173,174,175,176,177,178,179,180,181,182,183,184,185,186,187,188,189,190,191,192,193,194,195,196,197,198,199,200,201,202,203,204,205,206,207,208,209,210,211,212,213,214,215,216,217,218,219,220,221,222,223,224,225,226,227,228,229,230,231,232,233,234,235,236,237,238,239,240,241,242,243,244,245,246,247,248,249,250,251,252,253,254,255,256,257,258,259,260,261,262,263,264,265,266,267,268,269,270,271,272,273,274,275,276,277,278,279,280,281,282,283,284,285,286,287,288,289,290,291,292,293,294,295,296,297,298,299,300,301,302,303,304,305,306,307,308,309,310,311,312,313,314,315,316,317,318,319,320,321,322,323,324,325,326,327,328,329,330,331,332,333,334,335,336,337,338,339,340,341,342,343,344,345,346,347,348,349,350,351,352,353,354,355,356,357,358,359,360,361,362,363,364,365,366,367,368,369,370,371,372,373,374,375,376,377,378,379,380,381,382,383,384,385,386,387,388,389,390,391,392,393,394,395,396,397,398,399,400,401,402,403,404,405,406,407,408,409,410,411,412,413,414,415,416,417,418,419,420,421,422,423,424,425,426,427,428,429,430,431,432,433,434,435,436,437,438,439,440,441,442,443,444,445,446,447,448,449,450,451,452,453,454,455,456,457,458,459,460,461,462,463,464,465,466,467,468,469,470,471,472,473,474,475,476,477,478,479,480,481,482,483,484,485,486,487,488,489,490,491,492,493,494,495,496,497,498,499,500,501,502,503,504,505,506,507,508,509,510,511,512,513,514,515,516,517,518,519,520,521,522,523,524,525,526,527,528,529,530,531,532,533,534,535,536,537,538,539,540,541,542,543,544,545,546,547,548,549,550,551,552,553,554,555,556,557,558,559,560,561,562,563,564,565,566,567,568,569,570,571,572,573,574,575,576,577,578,579,580,581,582,583,584,585,586,587,588,589,590,591,592,593,594,595,596,597,598,599,600,601,602,603,604,605,606,607,608,609,610,611,612,613,614,615,616,617,618,619,620,621,622,623,624,625,626,627,628,629,630,631,632,633,634,635,636,637,638,639,640,641,642,643,644,645,646,647,648,649,650,651,652,653,654,655,656,657,658,659,660,661,662,663,664,665,666,667,668,669,670,671,672,673,674,675,676,677,678,679,680,681,682,683,684,685,686,687,688,689,690,691,692,693,694,695,696,697,698,699,700,701,702,703,704,705,706,707,708,709,710,711,712,713,714,715,716,717,718,719,720,721,722,723,724,725,726,727,728,729,730,731,732,733,734,735,736,737,738,739,740,741,742,743,744,745,746,747,748,749,750,751,752,753,754,755,756,757,758,759,760,761,762,763,764,765,766,767,768,769,770,771,772,773,774,775,776,777,778,779,780,781,782,783,784,785,786,787,788,789,790,791,792,793,794,795,796,797,798,799,800,801,802,803,804,805,806,807,808,809,810,811,812,813,814,815,816,817,818,819,820,821,822,823,824,825,826,827,828,829,830,831,832,833,834,835,836,837,838,839,840,841,842,843,844,845,846,847,848,849,850,851,852,853,854,855,856,857,858,859,860,861,862,863,864,865,866,867,868,869,870,871,872,873,874,875,876,877,878,879,880,881,882,883,884,885,886,887,888,889,890,891,892,893,894,895,896,897,898,899,900,901,902,903,904,905,906,907,908,909,910,911,912,913,914,915,916,917,918,919,920,921,922,923,924,925,926,927,928,929,930,931,932,933,934,935,936,937,938,939,940,941,942,943,944,945,946,947,948,949,950,951,952,953,954,955,956,957,958,959,960,961,962,963,964,965,966,967,968,969,970,971,972,973,974,975,976,977,978,979,980,981,982,983,984,985,986,987,988,989,990,991,992,993,994,995,996,997,998,999,1000,1001,1002,1003,1004,1005,1006,1007,1008,1009,1010,1011,1012,1013,1014,1015,1016,1017,1018,1019,1020,1021,1022,1023,1024,1025,1026,1027,1028,1029,1030,1031,1032,1033,1034,1035,1036,1037,1038,1039,1040,1041,1042,1043,1044,1045,1046,1047,1048,1049,1050,1051,1052,1053,1054,1055,1056,1057,1058,1059,1060,1061,1062,1063,1064,1065,1066,1067,1068,1069,1070,1071,1072,1073,1074,1075,1076,1077,1078,1079,1080,1081,1082,1083,1084,1085,1086,1087,1088,1089,1090,1091,1092,1093,1094,1095,1096,1097,1098,1099,1100,1101,1102,1103,1104,1105,1106,1107,1108,1109,1110,1111,1112,1113,1114,1115,1116,1117,1118,1119,1120,1121,1122,1123,1124,1125,1126,1127,1128,1129,1130,1131,1132,1133,1134,1135,1136,1137,1138,1139,1140,1141,1142,1143,1144,1145,1146,1147,1148,1149,1150,1151,1152,1153,1154,1155,1156,1157,1158,1159,1160,1161,1162,1163,1164,1165,1166,1167,1168,1169,1170,1171,1172,1173,1174,1175,1176,1177,1178,1179,1180,1181,1182,1183,1184,1185,1186,1187,1188,1189,1190,1191,1192,1193,1194,1195,1196,1197,1198,1199,1200,1201,1202,1203,1204,1205,1206,1207,1208,1209,1210,1211,1212,1213,1214,1215,1216,1217,1218,1219,1220,1221,1222,1223,1224,1225,1226,1227,1228,1229,1230,1231,1232,1233,1234,1235,1236,1237,1238,1239,1240,1241,1242,1243,1244,1245,1246,1247,1248,1249,1250,1251,1252,1253,1254,1255,1256,1257,1258,1259,1260,1261,1262,1263,1264,1265,1266,1267,1268,1269,1270,1271,1272,1273,1274,1275,1276,1277,1278,1279,1280,1281,1282,1283,1284,1285,1286,1287,1288,1289,1290,1291,1292,1293,1294,1295,1296,1297,1298,1299,1300,1301,1302,1303,1304,1305,1306,1307,1308,1309,1310,1311,1312,1313,1314,1315,1316,1317,1318,1319,1320,1321,1322,1323,1324,1325,1326,1327,1328,1329,1330,1331,1332,1333,1334,1335,1336,1337,1338,1339,1340,1341,1342,1343,1344,1345,1346,1347,1348,1349,1350,1351,1352,1353,1354,1355,1356,1357,1358,1359,1360,1361,1362,1363,1364,1365,1366,1367,1368,1369,1370,1371,1372,1373,1374,1375,1376,1377,1378,1379,1380,1381,1382,1383,1384,1385,1386,1387,1388,1389,1390,1391,1392,1393,1394,1395,1396,1397,1398,1399,1400,1401,1402,1403,1404,1405,1406,1407,1408,1409,1410,1411,1412,1413,1414,1415,1416,1417,1418,1419,1420,1421,1422,1423,1424,1425,1426,1427,1428,1429,1430,1431,1432,1433,1434,1435,1436,1437,1438,1439,1440,1441,1442,1443,1444,1445,1446,1447,1448,1449,1450,1451,1452,1453,1454,1455,1456,1457,1458,1459,1460,1461,1462,1463,1464,1465,1466,1467,1468,1469,1470,1471,1472,1473,1474,1475,1476,1477,1478,1479,1480,1481,1482,1483,1484,1485,1486,1487,1488,1489,1490,1491,1492,1493,1494,1495,1496,1497,1498,1499,1500,1501,1502,1503,1504,1505,1506,1507,1508,1509,1510,1511,1512,1513,1514,1515,1516,1517,1518,1519,1520,1521,1522,1523,1524,1525,1526,1527,1528,1529,1530,1531,1532,1533,1534,1535,1536,1537,1538,1539,1540,1541,1542,1543,1544,1545,1546,1547,1548,1549,1550,1551,1552,1553,1554,1555,1556,1557,1558,1559,1560,1561,1562,1563,1564,1565,1566,1567,1568,1569,1570,1571,1572,1573,1574,1575,1576,1577,1578,1579,1580,1581,1582,1583,1584,1585,1586,1587,1588,1589,1590,1591,1592,1593,1594,1595,1596,1597,1598,1599,1600,1601,1602,1603,1604,1605,1606,1607,1608,1609,1610,1611,1612,1613,1614,1615,1616,1617,1618,1619,1620,1621,1622,1623,1624,1625,1626,1627,1628,1629,1630,1631,1632,1633,1634,1635,1636,1637,1638,1639,1640,1641,1642,1643,1644,1645,1646,1647,1648,1649,1650,1651,1652,1653,1654,1655,1656,1657,1658,1659,1660,1661,1662,1663,1664,1665,1666,1667,1668,1669,1670,1671,1672,1673,1674,1675,1676,1677,1678,1679,1680,1681,1682,1683,1684,1685,1686,1687,1688,1689,1690,1691,1692,1693,1694,1695,1696,1697,1698,1699,1700,1701,1702,1703,1704,1705,1706,1707,1708,1709,1710,1711,1712,1713,1714,1715,1716,1717,1718,1719,1720,1721,1722,1723,1724,1725,1726,1727,1728,1729,1730,1731,1732,1733,1734,1735,1736,1737,1738,1739,1740,1741,1742,1743,1744,1745,1746,1747,1748,1749,1750,1751,1752,1753,1754,1755,1756,1757,1758,1759,1760,1761,1762,1763,1764,1765,1766,1767,1768,1769,1770,1771,1772,1773,1774,1775,1776,1777,1778,1779,1780,1781,1782,1783,1784,1785,1786,1787,1788,1789,1790,1791,1792,1793,1794,1795,1796,1797,1798,1799,1800,1801,1802,1803,1804,1805,1806,1807,1808,1809,1810,1811,1812,1813,1814,1815,1816,1817,1818,1819,1820,1821,1822,1823,1824,1825,1826,1827,1828,1829,1830,1831,1832,1833,1834,1835,1836,1837,1838,1839,1840,1841,1842,1843,1844,1845,1846,1847,1848,1849,1850,1851,1852,1853,1854,1855,1856,1857,1858,1859,1860,1861,1862,1863,1864,1865,1866,1867,1868,1869,1870,1871,1872,1873,1874,1875,1876,1877,1878,1879,1880,1881,1882,1883,1884,1885,1886,1887,1888,1889,1890,1891,1892,1893,1894,1895,1896,1897,1898,1899,1900,1901,1902,1903,1904,1905,1906,1907,1908,1909,1910,1911,1912,1913,1914,1915,1916,1917,1918,1919,1920,1921,1922,1923,1924,1925,1926,1927,1928,1929,1930,1931,1932,1933,1934,1935,1936,1937,1938,1939,1940,1941,1942,1943,1944,1945,1946,1947,1948,1949,1950,1951,1952,1953,1954,1955,1956,1957,1958,1959,1960,1961,1962,1963,1964,1965,1966,1967,1968,1969,1970,1971,1972,1973,1974,1975,1976,1977,1978,1979,1980,1981,1982,1983,1984,1985,1986,1987,1988,1989,1990,1991,1992,1993,1994,1995,1996,1997,1998,1999,2000,2001,2002,2003,2004,2005,2006,2007,2008,2009,2010,2011,2012,2013,2014,2015,2016,2017,2018,2019,2020,2021,2022,2023,2024,2025,2026,2027,2028,2029,2030,2031,2032,2033,2034,2035,2036,2037,2038,2039,2040,2041,2042,2043,2044,2045,2046,2047,2048,2049,2050,2051,2052,2053,2054,2055,2056,2057,2058,2059,2060,2061,2062,2063,2064,2065,2066,2067,2068,2069,2070,2071,2072,2073,2074,2075,2076,2077,2078,2079,2080,2081,2082,2083,2084,2085,2086,2087,2088,2089,2090,2091,2092,2093,2094,2095,2096,2097,2098,2099,2100,2101,2102,2103,2104,2105,2106,2107,2108,2109,2110,2111,2112,2113,2114,2115,2116,2117,2118,2119,2120,2121,2122,2123,2124,2125,2126,2127,2128,2129,2130,2131,2132,2133,2134,2135,2136,2137,2138,2139,2140,2141,2142,2143,2144,2145,2146,2147,2148,2149,2150,2151,2152,2153,2154,2155,2156,2157,2158,2159,2160,2161,2162,2163,2164,2165,2166,2167,2168,2169,2170,2171,2172,2173,2174,2175,2176,2177,2178,2179,2180,2181,2182,2183,2184,2185,2186,2187,2188,2189,2190,2191,2192,2193,2194,2195,2196,2197,2198,2199,2200,2201,2202,2203,2204,2205,2206,2207,2208,2209,2210,2211,2212,2213,2214,2215,2216,2217,2218,2219,2220,2221,2222,2223,2224,2225,2226,2227,2228,2229,2230,2231,2232,2233,2234,2235,2236,2237,2238,2239,2240,2241,2242,2243,2244,2245,2246,2247,2248,2249,2250,2251,2252,2253,2254,2255,2256,2257,2258,2259,2260,2261,2262,2263,2264,2265,2266,2267,2268,2269,2270,2271,2272,2273,2274,2275,2276,2277,2278,2279,2280,2281,2282,2283,2284,2285,2286,2287,2288,2289,2290,2291,2292,2293,2294,2295,2296,2297,2298,2299,2300,2301,2302,2303,2304,2305,2306,2307,2308,2309,2310,2311,2312,2313,2314,2315,2316,2317,2318,2319,2320,2321,2322,2323,2324,2325,2326,2327,2328,2329,2330,2331,2332,2333,2334,2335,2336,2337,2338,2339,2340,2341,2342,2343,2344,2345,2346,2347,2348,2349,2350,2351,2352,2353,2354,2355,2356,2357,2358,2359,2360,2361,2362,2363,2364,2365,2366,2367,2368,2369,2370,2371,2372,2373,2374,2375,2376,2377,2378,2379,2380,2381,2382,2383,2384,2385,2386,2387,2388,2389,2390,2391,2392,2393,2394,2395,2396,2397,2398,2399,2400,2401,2402,2403,2404,2405,2406,2407,2408,2409,2410,2411,2412,2413,2414,2415,2416,2417,2418,2419,2420,2421,2422,2423,2424,2425,2426,2427,2428,2429,2430,2431,2432,2433,2434,2435,2436,2437,2438,2439,2440,2441,2442,2443,2444,2445,2446,2447,2448,2449,2450,2451,2452,2453,2454,2455,2456,2457,2458,2459,2460,2461,2462,2463,2464,2465,2466,2467,2468,2469,2470,2471,2472,2473,2474,2475,2476,2477,2478,2479,2480,2481,2482,2483,2484,2485,2486,2487,2488,2489,2490,2491,2492,2493,2494,2495,2496,2497,2498,2499,2500) have mixed types.Specify dtype option on import or set low_memory=False.\n",
            "  interactivity=interactivity, compiler=compiler, result=result)\n"
          ],
          "name": "stderr"
        }
      ]
    },
    {
      "cell_type": "markdown",
      "metadata": {
        "id": "p--oCOi8bSzA"
      },
      "source": [
        "###2.2 Testing Datasets"
      ]
    },
    {
      "cell_type": "code",
      "metadata": {
        "cellView": "form",
        "id": "-_gbNZ0rVYk4"
      },
      "source": [
        "Testing_Data_One = \"/content/gdrive/MyDrive/RamanSpectra/TimeSeries/data1_TimesSeries_100_001_Spec.Data 1.csv\" #@param {type:\"raw\"}\n",
        "Testing_Data_Two = \"/content/gdrive/MyDrive/RamanSpectra/TimeSeries/data4_TimesSeries_100_002_Spec.Data 1.csv\" #@param {type:\"raw\"}\n",
        "Testing_Data_Three = \"/content/gdrive/MyDrive/RamanSpectra/TimeSeries/data3_TimesSeries_100_003_Spec.Data 1.csv\" #@param {type:\"raw\"}\n",
        "Testing_Data_Four = \"/content/gdrive/MyDrive/RamanSpectra/TimeSeries/data5_TimesSeries_100_004_Spec.Data 1.csv\" #@param {type:\"raw\"}\n",
        "Testing_Data_Five = \"/content/gdrive/MyDrive/RamanSpectra/TimeSeries/data6_TimesSeries_100_006_Spec.Data 1.csv\" #@param {type:\"raw\"}\n",
        "#Testing_Data_Six = \"/content/gdrive/MyDrive/RamanSpectra/TimeSeries/data10_Time Series_001_Spec.Data 1.csv\" #@param {type:\"raw\"}\n",
        "\n",
        "testing1 = pd.read_csv(Testing_Data_One)\n",
        "testing2 = pd.read_csv(Testing_Data_Two)\n",
        "testing3 = pd.read_csv(Testing_Data_Three)\n",
        "testing4 = pd.read_csv(Testing_Data_Four)\n",
        "testing5 = pd.read_csv(Testing_Data_Five)\n",
        "#testing6 = pd.read_csv(Testing_Data_Six)"
      ],
      "execution_count": 14,
      "outputs": []
    },
    {
      "cell_type": "markdown",
      "metadata": {
        "id": "cRJ-dARojg8o"
      },
      "source": [
        ""
      ]
    },
    {
      "cell_type": "markdown",
      "metadata": {
        "id": "XgxoHLpfj59i"
      },
      "source": [
        "##3.0 Add Labels to the Datssets"
      ]
    },
    {
      "cell_type": "code",
      "metadata": {
        "id": "Z_sd9sPZ3ZhF",
        "cellView": "form"
      },
      "source": [
        "#@title The data must now be converted to a Dataframe with pandas. We will also need to drop the \"x-axis\" column from the imported datasets\n",
        "\n",
        "train1 = pd.DataFrame(training1)\n",
        "train2 = pd.DataFrame(training2)\n",
        "train3 = pd.DataFrame(training3)\n",
        "train4 = pd.DataFrame(training4)\n",
        "train5 = pd.DataFrame(training5)\n",
        "#train6 = pd.DataFrame(training6)\n",
        "\n",
        "test1 = pd.DataFrame(testing1)\n",
        "test2 = pd.DataFrame(testing2)\n",
        "test3 = pd.DataFrame(testing3)\n",
        "test4 = pd.DataFrame(testing4)\n",
        "test5 = pd.DataFrame(testing5)\n",
        "#test6 = pd.DataFrame(testing6)\n",
        "\n",
        "train1 = train1.drop(index=0,columns=\"X-Axis\")\n",
        "train2 = train2.drop(index=0,columns=\"X-Axis\")\n",
        "train3 = train3.drop(index=0,columns=\"X-Axis\")\n",
        "train4 = train4.drop(index=0,columns=\"X-Axis\")\n",
        "train5 = train5.drop(index=0,columns=\"X-Axis\")\n",
        "#train6 = train6.drop(index=0,columns=\"X-Axis\")\n",
        "\n",
        "test1 = test1.drop(index=0,columns=\"X-Axis\")\n",
        "test2 = test2.drop(index=0,columns=\"X-Axis\")\n",
        "test3 = test3.drop(index=0,columns=\"X-Axis\")\n",
        "test4 = test4.drop(index=0,columns=\"X-Axis\")\n",
        "test5 = test5.drop(index=0,columns=\"X-Axis\")\n",
        "#test6 = test6.drop(index=0,columns=\"X-Axis\")\n"
      ],
      "execution_count": 15,
      "outputs": []
    },
    {
      "cell_type": "code",
      "metadata": {
        "id": "MO3oKnFzQiJs",
        "cellView": "form"
      },
      "source": [
        "#@title The data is loaded unlabeled so labels must be created for the spectra\n",
        "\n",
        "#Create labels for data\n",
        "train1_lab = [0]*train1.shape[1]\n",
        "train2_lab = [1]*train2.shape[1]\n",
        "train3_lab = [2]*train3.shape[1]\n",
        "train4_lab = [3]*train4.shape[1]\n",
        "train5_lab = [4]*train5.shape[1]\n",
        "#train6_lab = [5]*train6.shape[1]\n",
        "\n",
        "test1_lab = [0]*test1.shape[1]\n",
        "test2_lab = [1]*test2.shape[1]\n",
        "test3_lab = [2]*test3.shape[1]\n",
        "test4_lab = [3]*test4.shape[1]\n",
        "test5_lab = [4]*test5.shape[1]\n",
        "#test6_lab = [6]*test6.shape[1]\n",
        "\n",
        "#transpose datasets\n",
        "train1 = train1.T \n",
        "train2 = train2.T\n",
        "train3 = train3.T\n",
        "train4 = train4.T\n",
        "train5 = train5.T\n",
        "#train6 = train6.T\n",
        "\n",
        "test1 = test1.T\n",
        "test2 = test2.T\n",
        "test3 = test3.T\n",
        "test4 = test4.T\n",
        "test5 = test5.T\n",
        "#test6 = test6.T\n",
        "\n",
        "train1['Label'] = train1_lab\n",
        "train2['Label'] = train2_lab\n",
        "train3['Label'] = train3_lab\n",
        "train4['Label'] = train4_lab\n",
        "train5['Label'] = train5_lab\n",
        "#train6['Label'] = train6_lab\n",
        "\n",
        "test1['Label'] = test1_lab\n",
        "test2['Label'] = test2_lab\n",
        "test3['Label'] = test3_lab\n",
        "test4['Label'] = test4_lab\n",
        "test5['Label'] = test5_lab\n",
        "#test6['Label'] = test6_lab\n"
      ],
      "execution_count": 16,
      "outputs": []
    },
    {
      "cell_type": "markdown",
      "metadata": {
        "id": "-3jKtQjPjlz2"
      },
      "source": [
        "##4.0 Preparating the data for ResNet"
      ]
    },
    {
      "cell_type": "markdown",
      "metadata": {
        "id": "kM14TaHMmuKH"
      },
      "source": [
        "The spectra are loaded into the workspace as individual datasets. In order the feed the spectra into the neural network all datasets need to be concatenated into one dataframe and randomly shuffled. Once this is accomplished the training and the testing data can be fed into the ResNet. "
      ]
    },
    {
      "cell_type": "code",
      "metadata": {
        "id": "eKICtAvPpXrX"
      },
      "source": [
        "#@title Concatenate the training data (and the labels) into one dataframe. (current model shuffles data immediately after concatenating)\n",
        "\n",
        "train = pd.concat([train1, train2, train3, train4, train5])\n",
        "\n",
        "train_shuffle = train.sample(frac=1)\n",
        "\n",
        "train_lab = train_shuffle.pop(\"Label\")\n",
        "train_lab = np.reshape(np.array(train_lab), (len(train_lab),1))\n",
        "train_inpt = np.array(train_shuffle)\n",
        "\n",
        "train_data = (train_inpt, train_lab)"
      ],
      "execution_count": 17,
      "outputs": []
    },
    {
      "cell_type": "code",
      "metadata": {
        "cellView": "form",
        "id": "Oh54v0nFxucJ"
      },
      "source": [
        "#@title Pickle the concatenated/shuffled datasets\n",
        "filePath = \"/content/gdrive/MyDrive/Colab Notebooks/train_data.picke\" #@param {type: \"raw\"}\n",
        "out_training = open(filePath,\"wb\")\n",
        "pickle.dump(train_data, out_training)\n",
        "out_training.close()"
      ],
      "execution_count": 18,
      "outputs": []
    },
    {
      "cell_type": "code",
      "metadata": {
        "cellView": "form",
        "id": "Onsij1oUzfRa"
      },
      "source": [
        "#@title Load the Pickled file\n",
        "\n",
        "in_training =open(\"/content/gdrive/MyDrive/Colab Notebooks/test_data.pickle\", \"rb\")\n",
        "data = pickle.load(in_training)\n",
        "in_training.close()"
      ],
      "execution_count": 19,
      "outputs": []
    },
    {
      "cell_type": "markdown",
      "metadata": {
        "id": "mB0cpQw31lAN"
      },
      "source": [
        "Preprocess the data for the ResNet"
      ]
    },
    {
      "cell_type": "markdown",
      "metadata": {
        "id": "wVz5ung_2pI_"
      },
      "source": [
        "##5.0 Training the ResNet"
      ]
    },
    {
      "cell_type": "markdown",
      "metadata": {
        "id": "n3oj0EQi4-bp"
      },
      "source": [
        "\n",
        "\n",
        "*   Optimizer Used: Adam\n",
        "*   Loss: Sparse Categorical Cross Entropy\n",
        "*   Activation for ResNet: ReLU\n",
        "*   Activation for Output: softmax\n",
        "\n"
      ]
    },
    {
      "cell_type": "code",
      "metadata": {
        "cellView": "form",
        "id": "PAHyWkrJ1IRU"
      },
      "source": [
        "#@title Preprocess the data\n",
        "\n",
        "from keras.utils import to_categorical\n",
        "\n",
        "inpt = train_data[0].reshape(train_data[0].shape[0],train_data[0].shape[1],1)\n",
        "inpt = inpt.astype('float32')\n",
        "\n",
        "lab = train_data[1]\n",
        "lab = lab.astype('float32')\n",
        "lab = to_categorical(lab)\n",
        "\n",
        "#np.asarray(x).astype('float32')."
      ],
      "execution_count": 28,
      "outputs": []
    },
    {
      "cell_type": "code",
      "metadata": {
        "cellView": "form",
        "id": "rbrmZZrz3Iq9"
      },
      "source": [
        "NumberFeatureMaps = 64 #@param {type:\"raw\"}\n",
        "NumberClasses =  5#@param {type:\"raw\"}\n",
        "LearningRate = 0.0001 #@param {type:\"raw\"}\n",
        "NumberEpochs = 25 #@param {type:\"raw\"\n",
        "BatchSize = 50 #@param {type:\"raw\"}"
      ],
      "execution_count": 29,
      "outputs": []
    },
    {
      "cell_type": "code",
      "metadata": {
        "id": "S8Zed_nbaVhW",
        "cellView": "form"
      },
      "source": [
        "#@title Compile the ResNet\n",
        "\n",
        "input_layer = keras.layers.Input([train_data[0].shape[1],1])\n",
        "\n",
        "# BLOCK 1\n",
        "\n",
        "conv_x = keras.layers.Conv1D(filters=NumberFeatureMaps, kernel_size=8, padding='same')(input_layer)\n",
        "conv_x = keras.layers.BatchNormalization()(conv_x)\n",
        "conv_x = keras.layers.Activation('relu')(conv_x)\n",
        "\n",
        "conv_y = keras.layers.Conv1D(filters=NumberFeatureMaps, kernel_size=5, padding='same')(conv_x)\n",
        "conv_y = keras.layers.BatchNormalization()(conv_y)\n",
        "conv_y = keras.layers.Activation('relu')(conv_y)\n",
        "\n",
        "conv_z = keras.layers.Conv1D(filters=NumberFeatureMaps, kernel_size=3, padding='same')(conv_y)\n",
        "conv_z = keras.layers.BatchNormalization()(conv_z)\n",
        "\n",
        "# expand channels for the sum\n",
        "shortcut_y = keras.layers.Conv1D(filters=NumberFeatureMaps, kernel_size=1, padding='same')(input_layer)\n",
        "shortcut_y = keras.layers.BatchNormalization()(shortcut_y)\n",
        "\n",
        "output_block_1 = keras.layers.add([shortcut_y, conv_z])\n",
        "output_block_1 = keras.layers.Activation('relu')(output_block_1)\n",
        "output_block_1 = keras.layers.Dropout(.5)(output_block_1)\n",
        "\n",
        "# BLOCK 2\n",
        "\n",
        "conv_x = keras.layers.Conv1D(filters=NumberFeatureMaps * 2, kernel_size=8, padding='same')(output_block_1)\n",
        "conv_x = keras.layers.BatchNormalization()(conv_x)\n",
        "conv_x = keras.layers.Activation('relu')(conv_x)\n",
        "\n",
        "conv_y = keras.layers.Conv1D(filters=NumberFeatureMaps * 2, kernel_size=5, padding='same')(conv_x)\n",
        "conv_y = keras.layers.BatchNormalization()(conv_y)\n",
        "conv_y = keras.layers.Activation('relu')(conv_y)\n",
        "\n",
        "conv_z = keras.layers.Conv1D(filters=NumberFeatureMaps * 2, kernel_size=3, padding='same')(conv_y)\n",
        "conv_z = keras.layers.BatchNormalization()(conv_z)\n",
        "\n",
        "# expand channels for the sum\n",
        "\n",
        "shortcut_y = keras.layers.Conv1D(filters=NumberFeatureMaps * 2, kernel_size=1, padding='same')(output_block_1)\n",
        "shortcut_y = keras.layers.BatchNormalization()(shortcut_y)\n",
        "\n",
        "output_block_2 = keras.layers.add([shortcut_y, conv_z])\n",
        "output_block_2 = keras.layers.Activation('relu')(output_block_2)\n",
        "output_block_2 = keras.layers.Dropout(.5)(output_block_2)\n",
        "\n",
        "# BLOCK 3\n",
        "\n",
        "conv_x = keras.layers.Conv1D(filters=NumberFeatureMaps * 2, kernel_size=8, padding='same')(output_block_2)\n",
        "conv_x = keras.layers.BatchNormalization()(conv_x)\n",
        "conv_x = keras.layers.Activation('relu')(conv_x)\n",
        "\n",
        "conv_y = keras.layers.Conv1D(filters=NumberFeatureMaps * 2, kernel_size=5, padding='same')(conv_x)\n",
        "conv_y = keras.layers.BatchNormalization()(conv_y)\n",
        "conv_y = keras.layers.Activation('relu')(conv_y)\n",
        "\n",
        "conv_z = keras.layers.Conv1D(filters=NumberFeatureMaps * 2, kernel_size=3, padding='same')(conv_y)\n",
        "conv_z = keras.layers.BatchNormalization()(conv_z)\n",
        "\n",
        "# no need to expand channels because they are equal\n",
        "\n",
        "shortcut_y = keras.layers.BatchNormalization()(output_block_2)\n",
        "\n",
        "output_block_3 = keras.layers.add([shortcut_y, conv_z])\n",
        "output_block_3 = keras.layers.Activation('relu')(output_block_3)\n",
        "\n",
        "# FINAL\n",
        "\n",
        "gap_layer = keras.layers.GlobalAveragePooling1D()(output_block_3)\n",
        "\n",
        "output_layer = keras.layers.Dense(128, activation='relu')(gap_layer)\n",
        "output_layer = keras.layers.Dropout(.5)(output_layer)\n",
        "output_layer = keras.layers.Dense(NumberClasses, activation='softmax')(output_layer)\n",
        "\n",
        "res_net = keras.models.Model(inputs=input_layer, outputs=output_layer)\n",
        "\n",
        "res_net.compile(loss='categorical_crossentropy', optimizer=keras.optimizers.Adam(learning_rate=LearningRate),\n",
        "             metrics=['accuracy'])"
      ],
      "execution_count": 41,
      "outputs": []
    },
    {
      "cell_type": "code",
      "metadata": {
        "colab": {
          "base_uri": "https://localhost:8080/"
        },
        "cellView": "form",
        "id": "zKvXIpFy7rF7",
        "outputId": "27155989-9b71-44b6-e871-991ded5fe64c"
      },
      "source": [
        "#@title Train the ResNet\n",
        "\n",
        "ResNet = res_net.fit(inpt, lab, epochs = NumberEpochs, \n",
        "                     batch_size=BatchSize, \n",
        "                     validation_split=.2)\n",
        "\n",
        "                     #callbacks=train_checkpoint)"
      ],
      "execution_count": 42,
      "outputs": [
        {
          "output_type": "stream",
          "text": [
            "Epoch 1/25\n",
            "200/200 [==============================] - 30s 105ms/step - loss: 1.2341 - accuracy: 0.4814 - val_loss: 1.6728 - val_accuracy: 0.3560\n",
            "Epoch 2/25\n",
            "200/200 [==============================] - 21s 103ms/step - loss: 0.3421 - accuracy: 0.9271 - val_loss: 0.2999 - val_accuracy: 0.9264\n",
            "Epoch 3/25\n",
            "200/200 [==============================] - 21s 104ms/step - loss: 0.1098 - accuracy: 0.9912 - val_loss: 0.0502 - val_accuracy: 0.9884\n",
            "Epoch 4/25\n",
            "200/200 [==============================] - 21s 104ms/step - loss: 0.0463 - accuracy: 0.9980 - val_loss: 0.0090 - val_accuracy: 1.0000\n",
            "Epoch 5/25\n",
            "200/200 [==============================] - 21s 105ms/step - loss: 0.0217 - accuracy: 0.9993 - val_loss: 0.0035 - val_accuracy: 0.9992\n",
            "Epoch 6/25\n",
            "200/200 [==============================] - 21s 106ms/step - loss: 0.0159 - accuracy: 0.9989 - val_loss: 0.0028 - val_accuracy: 1.0000\n",
            "Epoch 7/25\n",
            "200/200 [==============================] - 21s 106ms/step - loss: 0.0100 - accuracy: 0.9997 - val_loss: 0.0017 - val_accuracy: 1.0000\n",
            "Epoch 8/25\n",
            "200/200 [==============================] - 21s 106ms/step - loss: 0.0088 - accuracy: 0.9994 - val_loss: 9.4694e-04 - val_accuracy: 1.0000\n",
            "Epoch 9/25\n",
            "200/200 [==============================] - 21s 107ms/step - loss: 0.0057 - accuracy: 1.0000 - val_loss: 3.9346e-04 - val_accuracy: 1.0000\n",
            "Epoch 10/25\n",
            "200/200 [==============================] - 21s 107ms/step - loss: 0.0057 - accuracy: 1.0000 - val_loss: 2.7636e-04 - val_accuracy: 1.0000\n",
            "Epoch 11/25\n",
            "200/200 [==============================] - 21s 107ms/step - loss: 0.0032 - accuracy: 1.0000 - val_loss: 2.4974e-04 - val_accuracy: 1.0000\n",
            "Epoch 12/25\n",
            "200/200 [==============================] - 22s 108ms/step - loss: 0.0029 - accuracy: 1.0000 - val_loss: 2.5797e-04 - val_accuracy: 1.0000\n",
            "Epoch 13/25\n",
            "200/200 [==============================] - 22s 108ms/step - loss: 0.0036 - accuracy: 0.9997 - val_loss: 0.1755 - val_accuracy: 0.9296\n",
            "Epoch 14/25\n",
            "200/200 [==============================] - 22s 108ms/step - loss: 0.0109 - accuracy: 0.9981 - val_loss: 4.2262e-04 - val_accuracy: 1.0000\n",
            "Epoch 15/25\n",
            "200/200 [==============================] - 22s 108ms/step - loss: 0.0040 - accuracy: 0.9997 - val_loss: 2.2179e-04 - val_accuracy: 1.0000\n",
            "Epoch 16/25\n",
            "200/200 [==============================] - 22s 108ms/step - loss: 0.0016 - accuracy: 1.0000 - val_loss: 5.6617e-05 - val_accuracy: 1.0000\n",
            "Epoch 17/25\n",
            "200/200 [==============================] - 22s 109ms/step - loss: 0.0019 - accuracy: 0.9999 - val_loss: 1.6594e-04 - val_accuracy: 1.0000\n",
            "Epoch 18/25\n",
            "200/200 [==============================] - 22s 108ms/step - loss: 0.0016 - accuracy: 0.9999 - val_loss: 3.5046e-05 - val_accuracy: 1.0000\n",
            "Epoch 19/25\n",
            "200/200 [==============================] - 22s 108ms/step - loss: 0.0011 - accuracy: 1.0000 - val_loss: 3.6806e-05 - val_accuracy: 1.0000\n",
            "Epoch 20/25\n",
            "200/200 [==============================] - 22s 108ms/step - loss: 8.8222e-04 - accuracy: 1.0000 - val_loss: 2.1922e-05 - val_accuracy: 1.0000\n",
            "Epoch 21/25\n",
            "200/200 [==============================] - 22s 108ms/step - loss: 0.0037 - accuracy: 0.9995 - val_loss: 9.9857e-05 - val_accuracy: 1.0000\n",
            "Epoch 22/25\n",
            "200/200 [==============================] - 22s 108ms/step - loss: 0.0010 - accuracy: 1.0000 - val_loss: 5.2755e-05 - val_accuracy: 1.0000\n",
            "Epoch 23/25\n",
            "200/200 [==============================] - 22s 108ms/step - loss: 6.4503e-04 - accuracy: 1.0000 - val_loss: 1.7584e-05 - val_accuracy: 1.0000\n",
            "Epoch 24/25\n",
            "200/200 [==============================] - 22s 108ms/step - loss: 6.3176e-04 - accuracy: 1.0000 - val_loss: 8.2925e-06 - val_accuracy: 1.0000\n",
            "Epoch 25/25\n",
            "200/200 [==============================] - 22s 108ms/step - loss: 8.1326e-04 - accuracy: 0.9998 - val_loss: 1.6072e-05 - val_accuracy: 1.0000\n"
          ],
          "name": "stdout"
        }
      ]
    },
    {
      "cell_type": "code",
      "metadata": {
        "colab": {
          "base_uri": "https://localhost:8080/",
          "height": 279
        },
        "cellView": "form",
        "id": "icUD-lX09R98",
        "outputId": "2a5bac92-d1fc-440b-d2db-4b8cec6e5beb"
      },
      "source": [
        "#@title Model training accuracy\n",
        "from matplotlib import pyplot as plt\n",
        "\n",
        "plt.plot(ResNet.history['accuracy'], label='Accuracy')\n",
        "plt.plot(ResNet.history['val_accuracy'], label='Validation \\n Accuracy')\n",
        "plt.xlabel('Epoch')\n",
        "plt.ylabel('Accuracy')\n",
        "plt.ylim([0.6, 1.01])\n",
        "plt.legend(loc='lower right')\n",
        "#plt.title(\"ResNet CNN\")\n",
        "plt.show()\n"
      ],
      "execution_count": 44,
      "outputs": [
        {
          "output_type": "display_data",
          "data": {
            "image/png": "[encoded data removed]",
            "text/plain": [
              "<Figure size 432x288 with 1 Axes>"
            ]
          },
          "metadata": {
            "tags": [],
            "needs_background": "light"
          }
        }
      ]
    },
    {
      "cell_type": "code",
      "metadata": {
        "colab": {
          "base_uri": "https://localhost:8080/",
          "height": 300
        },
        "cellView": "form",
        "id": "tbPgfx2t-F-Q",
        "outputId": "5b223a37-f645-45c6-8cec-2d37a06c7f33"
      },
      "source": [
        "#@title Model training loss\n",
        "\n",
        "plt.plot(ResNet.history['loss'], label='Loss')\n",
        "plt.plot(ResNet.history['val_loss'], label='Validation \\n Loss')\n",
        "plt.xlabel('Epoch')\n",
        "plt.ylabel('Accuracy')\n",
        "plt.ylim([-0.01, 0.7])\n",
        "plt.legend(loc='upper right')\n",
        "plt.show()\n",
        "plt.savefig(\"resNet-CNN-acc.png\")"
      ],
      "execution_count": 45,
      "outputs": [
        {
          "output_type": "display_data",
          "data": {
            "image/png": "[encoded data removed]",
            "text/plain": [
              "<Figure size 432x288 with 1 Axes>"
            ]
          },
          "metadata": {
            "tags": [],
            "needs_background": "light"
          }
        },
        {
          "output_type": "display_data",
          "data": {
            "text/plain": [
              "<Figure size 432x288 with 0 Axes>"
            ]
          },
          "metadata": {
            "tags": []
          }
        }
      ]
    },
    {
      "cell_type": "markdown",
      "metadata": {
        "id": "AgJT2Q8R-t_E"
      },
      "source": [
        "##6.0 Test the network"
      ]
    },
    {
      "cell_type": "code",
      "metadata": {
        "cellView": "form",
        "id": "SFV3JyENkv7J"
      },
      "source": [
        "#@title Concatenate the testing dataset\n",
        "\n",
        "\n",
        "\n",
        "test = pd.concat([test1, test2, test3, test4, test5])\n",
        "test_data = test.sample(frac=1)\n",
        "\n",
        "test_lab = test_data.pop(\"Label\")\n",
        "test_lab = np.reshape(np.array(test_lab), (len(test_lab),1))\n",
        "test_inpt = np.array(test_data)\n",
        "\n",
        "t_data = (test_inpt, test_lab)\n",
        "\n",
        "test_out = open(\"/content/gdrive/My Drive/Colab Notebooks/test_data.pickle\", \"wb\")\n",
        "pickle.dump(t_data, test_out)\n",
        "test_out.close()\n",
        "\n",
        "test_in = open(\"/content/gdrive/My Drive/Colab Notebooks/test_data.pickle\", \"rb\")\n",
        "t_data = pickle.load(test_in)\n",
        "test_in.close()\n"
      ],
      "execution_count": 51,
      "outputs": []
    },
    {
      "cell_type": "code",
      "metadata": {
        "cellView": "form",
        "id": "Rtp8qQJpmO_P"
      },
      "source": [
        "#@title Reshape testing data\n",
        "test_input = t_data[0].reshape(t_data[0].shape[0],t_data[0].shape[1],1)\n",
        "test_input = test_input.astype('float32')\n",
        "\n",
        "t_lab = t_data[1]\n",
        "t_lab = t_lab.astype('float32')\n",
        "t_lab = to_categorical(t_lab)"
      ],
      "execution_count": 54,
      "outputs": []
    },
    {
      "cell_type": "code",
      "metadata": {
        "cellView": "form",
        "id": "jJRcU_s4_LYI"
      },
      "source": [
        "#@title Classify the testing data\n",
        "\n",
        "y_predict = res_net.predict(test_input)\n",
        "y_actual = t_lab"
      ],
      "execution_count": 59,
      "outputs": []
    },
    {
      "cell_type": "code",
      "metadata": {
        "colab": {
          "base_uri": "https://localhost:8080/"
        },
        "cellView": "form",
        "id": "9mPoXWr2_nMZ",
        "outputId": "c792b5c7-e3b3-4c2f-b02f-fc4b07ab6b1e"
      },
      "source": [
        "#@title *optional*: Print raw results\n",
        "\n",
        "#predicted labels\n",
        "print(len(y_predict), y_predict.shape)\n",
        "print(y_predict)\n",
        "\n",
        "#actual labels\n",
        "print(len(y_actual), y_actual.shape)\n",
        "print(y_actual)"
      ],
      "execution_count": 60,
      "outputs": [
        {
          "output_type": "stream",
          "text": [
            "500 (500, 5)\n",
            "[[1.6040745e-05 7.9139218e-06 1.9062378e-05 1.1767456e-03 9.9878019e-01]\n",
            " [1.9704103e-05 8.1102644e-06 1.9163661e-05 1.6912550e-03 9.9826175e-01]\n",
            " [4.9056485e-05 9.9993956e-01 1.4579325e-06 2.4808767e-07 9.6787635e-06]\n",
            " ...\n",
            " [3.7277867e-05 9.9994123e-01 1.9192360e-06 3.0846076e-07 1.9165447e-05]\n",
            " [1.0000000e+00 5.1943093e-08 5.0539870e-09 4.7221329e-09 6.7351863e-10]\n",
            " [1.3864115e-04 9.9978024e-01 6.2921708e-06 1.1798580e-06 7.3598269e-05]]\n",
            "500 (500, 5)\n",
            "[[0. 0. 0. 0. 1.]\n",
            " [0. 0. 0. 0. 1.]\n",
            " [0. 1. 0. 0. 0.]\n",
            " ...\n",
            " [0. 1. 0. 0. 0.]\n",
            " [1. 0. 0. 0. 0.]\n",
            " [0. 1. 0. 0. 0.]]\n"
          ],
          "name": "stdout"
        }
      ]
    },
    {
      "cell_type": "code",
      "metadata": {
        "colab": {
          "base_uri": "https://localhost:8080/"
        },
        "cellView": "form",
        "id": "yHfYQUnFAPI_",
        "outputId": "f1c284e5-651a-4f57-8f60-eaf722c58090"
      },
      "source": [
        "#@title Accuracy of ResNet\n",
        "from sklearn.metrics import accuracy_score, f1_score, precision_score\n",
        "\n",
        "acc = (y_predict.argmax(axis=1) == y_actual.argmax(axis=1)).mean()\n",
        "print('Accuracy: {:0.1f}%'.format(100*acc))\n",
        "\n",
        "f1score = f1_score(y_actual.argmax(axis=1), y_predict.argmax(axis=1), average='micro')\n",
        "prec_score = precision_score(y_actual.argmax(axis=1), y_predict.argmax(axis=1), average='micro')\n",
        "print(\"F1 score: \", f1score)\n",
        "print(\"Precision score: \", prec_score)"
      ],
      "execution_count": 62,
      "outputs": [
        {
          "output_type": "stream",
          "text": [
            "Accuracy: 95.4%\n",
            "F1 score:  0.954\n",
            "Precision score:  0.954\n"
          ],
          "name": "stdout"
        }
      ]
    },
    {
      "cell_type": "markdown",
      "metadata": {
        "id": "UIjPKb82M1pG"
      },
      "source": [
        "Label the samples for the confusion matrix. Make sure that the labels are in the order of the input data from Part 1.0"
      ]
    },
    {
      "cell_type": "code",
      "metadata": {
        "cellView": "form",
        "id": "2UX-14lsIoES"
      },
      "source": [
        "SampleOne = \"Asparagine\" #@param {type:\"raw\"}\n",
        "SampleTwo = \"Histdine\" #@param {type:\"raw\"}\n",
        "SampleThree = \"Glycine\" #@param {type:\"raw\"}\n",
        "SampleFour = \"Leucine\" #@param {type:\"raw\"}\n",
        "SampleFive = \"Lysine\" #@param {type:\"raw\"}\n",
        "#SampleSix = \"SampleLabel\" #@param {type:\"raw\"}\n",
        "\n",
        "order = {0,1,2,3,4}\n",
        "\n",
        "chem_species = {}\n",
        "chem_species[0] = SampleOne\n",
        "chem_species[1] = SampleTwo\n",
        "chem_species[2] = SampleThree\n",
        "chem_species[3] = SampleFour\n",
        "chem_species[4] = SampleFive\n",
        "#chem_species[5] = SampleSix"
      ],
      "execution_count": 63,
      "outputs": []
    },
    {
      "cell_type": "code",
      "metadata": {
        "colab": {
          "base_uri": "https://localhost:8080/",
          "height": 365
        },
        "cellView": "form",
        "id": "iu7ugqQpMva-",
        "outputId": "2e9fda07-eca0-431f-84de-f0a176ff85f8"
      },
      "source": [
        "#@title Confusion matrix\n",
        "\n",
        "import seaborn as sns\n",
        "from sklearn.metrics import confusion_matrix\n",
        "\n",
        "\n",
        "sns.set_context(\"talk\", rc={\"font\":\"Helvetica\", \"font.size\":12})\n",
        "label = [chem_species[i] for i in order] \n",
        "#takes a vector of the labels that were previously one-hot encoded\n",
        "con_mat = confusion_matrix(y_actual.argmax(axis=1), \n",
        "                           y_predict.argmax(axis=1))\n",
        "con_mat = 100 * con_mat / con_mat.sum(axis=1)[:,np.newaxis]\n",
        "ax = sns.heatmap(con_mat, annot=True, cmap='YlGnBu', fmt='0.0f',\n",
        "                 xticklabels=label, yticklabels=label)\n",
        "ax.xaxis.tick_top()\n",
        "plt.xticks(rotation=90) \n",
        "plt.show()"
      ],
      "execution_count": 64,
      "outputs": [
        {
          "output_type": "display_data",
          "data": {
            "image/png": "[encoded data removed]",
            "text/plain": [
              "<Figure size 432x288 with 2 Axes>"
            ]
          },
          "metadata": {
            "tags": [],
            "needs_background": "light"
          }
        }
      ]
    }
  ]
}