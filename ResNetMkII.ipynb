{
  "nbformat": 4,
  "nbformat_minor": 0,
  "metadata": {
    "colab": {
      "name": "ResNetMkII.ipynb",
      "provenance": [],
      "authorship_tag": "ABX9TyNx17RLQZflRv5qjnfEBv+v",
      "include_colab_link": true
    },
    "kernelspec": {
      "name": "python3",
      "display_name": "Python 3"
    },
    "accelerator": "GPU"
  },
  "cells": [
    {
      "cell_type": "markdown",
      "metadata": {
        "id": "view-in-github",
        "colab_type": "text"
      },
      "source": [
        "<a href=\"https://colab.research.google.com/github/BendySky/ARC-4-Chem/blob/main/ResNetMkII.ipynb\" target=\"_parent\"><img src=\"https://colab.research.google.com/assets/colab-badge.svg\" alt=\"Open In Colab\"/></a>"
      ]
    },
    {
      "cell_type": "markdown",
      "metadata": {
        "id": "1BQdXW-UiIcA"
      },
      "source": [
        "#ResNet Mk2\r\n",
        "\r\n",
        "*   This notebook begins my intro into making custom ResNets. \r\n",
        "*   The end goal is to allow a user to build a residual network of a custom size/depth\r\n",
        "\r\n",
        "\r\n"
      ]
    },
    {
      "cell_type": "markdown",
      "metadata": {
        "id": "8SCSzsmPpKFh"
      },
      "source": [
        "##1.0 Mount Google Drive and import all necesseary packages"
      ]
    },
    {
      "cell_type": "code",
      "metadata": {
        "colab": {
          "base_uri": "https://localhost:8080/"
        },
        "id": "IIBFt9H2So8a",
        "cellView": "form",
        "outputId": "1355e0a0-9c97-432e-e88b-940a4eb5c546"
      },
      "source": [
        "#@title Mount the Drive\n",
        "\n",
        "import tensorflow as tf\n",
        "from tensorflow import keras\n",
        "from google.colab import drive\n",
        "import gspread\n",
        "import pandas as pd\n",
        "import numpy as np\n",
        "from oauth2client.service_account import ServiceAccountCredentials\n",
        "import pickle\n",
        "import pywt\n",
        "\n",
        "drive.mount('/content/gdrive')"
      ],
      "execution_count": null,
      "outputs": [
        {
          "output_type": "stream",
          "text": [
            "Mounted at /content/gdrive\n"
          ],
          "name": "stdout"
        }
      ]
    },
    {
      "cell_type": "code",
      "metadata": {
        "id": "KAyaN-w5paBk",
        "cellView": "form"
      },
      "source": [
        "DataSavePath = '/content/gdrive/MyDrive/RamanSpectra/TestResults/ResNetMk2/2-3-21/' #@param {type:\"string\"}\n",
        "images_dir=DataSavePath"
      ],
      "execution_count": null,
      "outputs": []
    },
    {
      "cell_type": "markdown",
      "metadata": {
        "id": "j602_KHLoN7o"
      },
      "source": [
        "##2.0 Load Training/Testing Data\n",
        "First we need to specify the filepath for each of the training and testing datasets. Check the /contents/gdrive directory to the left and copy the path that each dataset is in. To download data of the 5 amino acids we trained our network on, click here.."
      ]
    },
    {
      "cell_type": "code",
      "metadata": {
        "id": "z5yXfQ7_piDf",
        "cellView": "form"
      },
      "source": [
        "def createList(r1, r2): \n",
        "    if (r1 == r2): \n",
        "        return r1 \n",
        "    else: \n",
        "        res = [] #create empty list \n",
        "        while(r1 < r2+1 ): #loop append until r2 is reached\n",
        "            res.append(r1) \n",
        "            r1 += 1\n",
        "        return res \n",
        "\n",
        "#@markdown * Below you can select the index of rows (if any) you would like to delete from all of the datasets\n",
        "Row1 =  0#@param {type:\"slider\", min:0, max:100, step:1}\n",
        "\n",
        "#@markdown * select the number of rows to delete by adjusting the slider\n",
        "Row2 =  52#@param {type:\"slider\", min:0, max:100, step:1}\n",
        "\n",
        "numRows = createList(Row1, Row2)"
      ],
      "execution_count": null,
      "outputs": []
    },
    {
      "cell_type": "markdown",
      "metadata": {
        "id": "A_NKtYcupsJW"
      },
      "source": [
        "### 2.1 Training Datasets"
      ]
    },
    {
      "cell_type": "code",
      "metadata": {
        "id": "cRwjWZvxp0Aj",
        "cellView": "form"
      },
      "source": [
        "#@title Select filepaths for training data\n",
        "#@markdown Select the filepath location of each of the datasets\n",
        "filepath1 = \"/content/gdrive/MyDrive/RamanSpectra/ImageScans/Amino Acids/Asparagine.csv\" #@param {type:\"string\"}\n",
        "filepath2 = \"/content/gdrive/MyDrive/RamanSpectra/ImageScans/CHAPS_image_scan_001_Spec.Data 1_F.csv\" #@param {type:\"string\"}\n",
        "filepath3 = \"/content/gdrive/MyDrive/RamanSpectra/ImageScans/Amino Acids/Glycine.csv\" #@param {type:\"string\"}\n",
        "filepath4 = \"/content/gdrive/MyDrive/RamanSpectra/ImageScans/Amino Acids/Histidine.csv\" #@param {type:\"string\"}\n",
        "filepath5 = \"/content/gdrive/MyDrive/RamanSpectra/ImageScans/Amino Acids/Leucine.csv\" #@param {type:\"string\"}\n",
        "filepath6 = \"/content/gdrive/MyDrive/RamanSpectra/ImageScans/Amino Acids/Lysine.csv\" #@param {type:\"string\"}\n",
        "filepath7 =  \"/content/gdrive/MyDrive/RamanSpectra/ImageScans/MOPS_image_scan_002_Spec.Data 1_F.csv\" #@param {type:\"string\"}\n",
        "filepath8 = \"/content/gdrive/MyDrive/RamanSpectra/ImageScans/beta-estradiol_imageScan_001_Spec.Data 1_F.csv\" #@param {type:\"string\"}\n",
        "filepath9 =  \"/content/gdrive/MyDrive/RamanSpectra/ImageScans/Chloroquine.csv\" #@param {type:\"string\"}\n",
        "filepath10 =  \"/content/gdrive/MyDrive/RamanSpectra/ImageScans/fluconazole_image_scan_001_Spec.Data 1_F.csv\"#@param {type:\"string\"}\n",
        "filepath11 =  \"/content/gdrive/MyDrive/RamanSpectra/ImageScans/Forskolin_image_scan_000_Spec.Data 1_F.csv\" #@param {type:\"string\"}\n",
        "filepath12 =  \"/content/gdrive/MyDrive/RamanSpectra/ImageScans/LauricAcid1sec10accImagescan_001_Spec.Data 1_F.csv\"#@param {type:\"string\"}\n",
        "filepath13 = \"/content/gdrive/MyDrive/RamanSpectra/ImageScans/Amino Acids/Tryptophan.csv\" #@param {type:\"string\"}\n",
        "filepath14 =  \"/content/gdrive/MyDrive/RamanSpectra/ImageScans/Copy of D-(+)-Maltose Monohydrate Map_000_Spec.Data 1_F (1).csv\"#@param {type:\"string\"}\n",
        "filepath15 =\"/content/gdrive/MyDrive/RamanSpectra/ImageScans/anthrone_image_scan_000_Spec.Data 1_F.csv\"#@param {type:\"string\"}\n",
        "filepath16 =\"/content/gdrive/MyDrive/RamanSpectra/ImageScans/Copy of Sodium Dodecylsulfate.Data 1_F.csv\"#@param {type:\"string\"}\n",
        "filepath17 =\"/content/gdrive/MyDrive/RamanSpectra/ImageScans/Copy of Potato Starch map_000_Spec.Data 1_F (1).csv\"#@param {type:\"string\"}\n",
        "filepath18 =\"/content/gdrive/MyDrive/RamanSpectra/ImageScans/Copy of Progesterone (s).Data 1_F.csv\"#@param {type:\"string\"}\n",
        "filepath19 =\"/content/gdrive/MyDrive/RamanSpectra/ImageScans/Copy of Uridine Map_000_Spec.Data 1_F (1).csv\"#@param {type:\"string\"}\n",
        "filepath20 =\"/content/gdrive/MyDrive/RamanSpectra/ImageScans/Copy of sodium_deoxycholate_image_Spec.Data 1_F (1).csv\"#@param {type:\"string\"}\n",
        "#filepath21 =\"/content/gdrive/MyDrive/RamanSpectra/ImageScans/Copy of D-(+)-Maltose Monohydrate Map_000_Spec.Data 1_F (1).csv\"#@param {type:\"string\"}\n",
        "#filepath22 =\"\"#@param {type:\"string\"}"
      ],
      "execution_count": null,
      "outputs": []
    },
    {
      "cell_type": "code",
      "metadata": {
        "id": "KBEyYvFYp7Lf",
        "colab": {
          "base_uri": "https://localhost:8080/"
        },
        "cellView": "form",
        "outputId": "fb7482d2-6f97-49ae-ef0e-984c5e06e9f8"
      },
      "source": [
        "#@title Import the training datasets and reshape the data\n",
        "training1 = pd.read_csv(filepath1)\n",
        "train1 = training1.drop(training1.index[numRows])\n",
        "train1 = train1.drop(columns='X-Axis')\n",
        "\n",
        "train2 = pd.read_csv(filepath2)\n",
        "train2 = train2.drop(train2.index[numRows])\n",
        "train2 = train2.drop(columns='X-Axis')\n",
        "\n",
        "train3 = pd.read_csv(filepath3)\n",
        "train3 = train3.drop(train3.index[numRows])\n",
        "train3 = train3.drop(columns='X-Axis')\n",
        "\n",
        "train4 = pd.read_csv(filepath4)\n",
        "train4 = train4.drop(train4.index[numRows])\n",
        "train4 = train4.drop(columns='X-Axis')\n",
        "\n",
        "train5 = pd.read_csv(filepath5)\n",
        "train5 = train5.drop(train5.index[numRows])\n",
        "train5 = train5.drop(columns='X-Axis')\n",
        "\n",
        "train6 = pd.read_csv(filepath6)\n",
        "train6 = train6.drop(train6.index[numRows])\n",
        "train6 = train6.drop(columns='X-Axis')\n",
        "\n",
        "train7 = pd.read_csv(filepath7)\n",
        "train7 = train7.drop(train7.index[numRows])\n",
        "train7 = train7.drop(columns='X-Axis')\n",
        "\n",
        "train8 = pd.read_csv(filepath8)\n",
        "train8 = train8.drop(train8.index[numRows])\n",
        "train8 = train8.drop(columns='X-Axis')\n",
        "\n",
        "train9 = pd.read_csv(filepath9)\n",
        "train9 = train9.drop(train9.index[numRows])\n",
        "train9 = train9.drop(columns='X-Axis')\n",
        "\n",
        "train10 = pd.read_csv(filepath10)\n",
        "train10 = train10.drop(train10.index[numRows])\n",
        "train10 = train10.drop(columns='X-Axis')\n",
        "\n",
        "train11 = pd.read_csv(filepath11)\n",
        "train11 = train11.drop(train11.index[numRows])\n",
        "train11 = train11.drop(columns='X-Axis')\n",
        "\n",
        "train12 = pd.read_csv(filepath12)\n",
        "train12 = train12.drop(train12.index[numRows])\n",
        "train12 = train12.drop(columns='X-Axis')\n",
        "\n",
        "train13 = pd.read_csv(filepath13)\n",
        "train13 = train13.drop(train13.index[numRows])\n",
        "train13 = train13.drop(columns='X-Axis')\n",
        "\n",
        "train14 = pd.read_csv(filepath14)\n",
        "train14 = train14.drop(train14.index[numRows])\n",
        "train14 = train14.drop(columns='X-Axis')\n",
        "\n",
        "train15 = pd.read_csv(filepath15)\n",
        "train15 = train15.drop(train15.index[numRows])\n",
        "train15 = train15.drop(columns='X-Axis')\n",
        "\n",
        "train16 = pd.read_csv(filepath16)\n",
        "train16 = train16.drop(train16.index[numRows])\n",
        "train16 = train16.drop(columns='X-Axis')\n",
        "\n",
        "train17 = pd.read_csv(filepath17)\n",
        "train17 = train17.drop(train17.index[numRows])\n",
        "train17 = train17.drop(columns='X-Axis')\n",
        "\n",
        "train18 = pd.read_csv(filepath18)\n",
        "train18 = train18.drop(train18.index[numRows])\n",
        "train18 = train18.drop(columns='X-Axis')\n",
        "\n",
        "train19 = pd.read_csv(filepath19)\n",
        "train19 = train19.drop(train19.index[numRows])\n",
        "train19 = train19.drop(columns='X-Axis')\n",
        "\n",
        "train20 = pd.read_csv(filepath20)\n",
        "train20 = train20.drop(train20.index[numRows])\n",
        "train20 = train20.drop(columns='X-Axis')\n",
        "\n",
        "#train21 = pd.read_csv(filepath21)\n",
        "#train21 = train21.drop(train21.index[numRows])\n",
        "#train21 = train21.drop(columns='X-Axis')\n",
        "\n",
        "#train22 = pd.read_csv(filepath22)\n",
        "#train22 = train22.drop(train22.index[numRows])\n",
        "#train22 = train22.drop(columns='X-Axis')\n",
        "\n",
        "\n",
        "print(\"\\nShape of imported datasets:\", training1.shape)\n",
        "print(\"Updated shape of datasets:\", train1.shape)\n",
        "print(\"Number of rows removed:\", Row2+1)"
      ],
      "execution_count": null,
      "outputs": [
        {
          "output_type": "stream",
          "text": [
            "/usr/local/lib/python3.6/dist-packages/IPython/core/interactiveshell.py:2718: DtypeWarning: Columns (0,1,2,3,4,5,6,7,8,9,10,11,12,13,14,15,16,17,18,19,20,21,22,23,24,25,26,27,28,29,30,31,32,33,34,35,36,37,38,39,40,41,42,43,44,45,46,47,48,49,50,51,52,53,54,55,56,57,58,59,60,61,62,63,64,65,66,67,68,69,70,71,72,73,74,75,76,77,78,79,80,81,82,83,84,85,86,87,88,89,90,91,92,93,94,95,96,97,98,99,100,101,102,103,104,105,106,107,108,109,110,111,112,113,114,115,116,117,118,119,120,121,122,123,124,125,126,127,128,129,130,131,132,133,134,135,136,137,138,139,140,141,142,143,144,145,146,147,148,149,150,151,152,153,154,155,156,157,158,159,160,161,162,163,164,165,166,167,168,169,170,171,172,173,174,175,176,177,178,179,180,181,182,183,184,185,186,187,188,189,190,191,192,193,194,195,196,197,198,199,200,201,202,203,204,205,206,207,208,209,210,211,212,213,214,215,216,217,218,219,220,221,222,223,224,225,226,227,228,229,230,231,232,233,234,235,236,237,238,239,240,241,242,243,244,245,246,247,248,249,250,251,252,253,254,255,256,257,258,259,260,261,262,263,264,265,266,267,268,269,270,271,272,273,274,275,276,277,278,279,280,281,282,283,284,285,286,287,288,289,290,291,292,293,294,295,296,297,298,299,300,301,302,303,304,305,306,307,308,309,310,311,312,313,314,315,316,317,318,319,320,321,322,323,324,325,326,327,328,329,330,331,332,333,334,335,336,337,338,339,340,341,342,343,344,345,346,347,348,349,350,351,352,353,354,355,356,357,358,359,360,361,362,363,364,365,366,367,368,369,370,371,372,373,374,375,376,377,378,379,380,381,382,383,384,385,386,387,388,389,390,391,392,393,394,395,396,397,398,399,400,401,402,403,404,405,406,407,408,409,410,411,412,413,414,415,416,417,418,419,420,421,422,423,424,425,426,427,428,429,430,431,432,433,434,435,436,437,438,439,440,441,442,443,444,445,446,447,448,449,450,451,452,453,454,455,456,457,458,459,460,461,462,463,464,465,466,467,468,469,470,471,472,473,474,475,476,477,478,479,480,481,482,483,484,485,486,487,488,489,490,491,492,493,494,495,496,497,498,499,500,501,502,503,504,505,506,507,508,509,510,511,512,513,514,515,516,517,518,519,520,521,522,523,524,525,526,527,528,529,530,531,532,533,534,535,536,537,538,539,540,541,542,543,544,545,546,547,548,549,550,551,552,553,554,555,556,557,558,559,560,561,562,563,564,565,566,567,568,569,570,571,572,573,574,575,576,577,578,579,580,581,582,583,584,585,586,587,588,589,590,591,592,593,594,595,596,597,598,599,600,601,602,603,604,605,606,607,608,609,610,611,612,613,614,615,616,617,618,619,620,621,622,623,624,625,626,627,628,629,630,631,632,633,634,635,636,637,638,639,640,641,642,643,644,645,646,647,648,649,650,651,652,653,654,655,656,657,658,659,660,661,662,663,664,665,666,667,668,669,670,671,672,673,674,675,676,677,678,679,680,681,682,683,684,685,686,687,688,689,690,691,692,693,694,695,696,697,698,699,700,701,702,703,704,705,706,707,708,709,710,711,712,713,714,715,716,717,718,719,720,721,722,723,724,725,726,727,728,729,730,731,732,733,734,735,736,737,738,739,740,741,742,743,744,745,746,747,748,749,750,751,752,753,754,755,756,757,758,759,760,761,762,763,764,765,766,767,768,769,770,771,772,773,774,775,776,777,778,779,780,781,782,783,784,785,786,787,788,789,790,791,792,793,794,795,796,797,798,799,800,801,802,803,804,805,806,807,808,809,810,811,812,813,814,815,816,817,818,819,820,821,822,823,824,825,826,827,828,829,830,831,832,833,834,835,836,837,838,839,840,841,842,843,844,845,846,847,848,849,850,851,852,853,854,855,856,857,858,859,860,861,862,863,864,865,866,867,868,869,870,871,872,873,874,875,876,877,878,879,880,881,882,883,884,885,886,887,888,889,890,891,892,893,894,895,896,897,898,899,900,901,902,903,904,905,906,907,908,909,910,911,912,913,914,915,916,917,918,919,920,921,922,923,924,925,926,927,928,929,930,931,932,933,934,935,936,937,938,939,940,941,942,943,944,945,946,947,948,949,950,951,952,953,954,955,956,957,958,959,960,961,962,963,964,965,966,967,968,969,970,971,972,973,974,975,976,977,978,979,980,981,982,983,984,985,986,987,988,989,990,991,992,993,994,995,996,997,998,999,1000,1001,1002,1003,1004,1005,1006,1007,1008,1009,1010,1011,1012,1013,1014,1015,1016,1017,1018,1019,1020,1021,1022,1023,1024,1025,1026,1027,1028,1029,1030,1031,1032,1033,1034,1035,1036,1037,1038,1039,1040,1041,1042,1043,1044,1045,1046,1047,1048,1049,1050,1051,1052,1053,1054,1055,1056,1057,1058,1059,1060,1061,1062,1063,1064,1065,1066,1067,1068,1069,1070,1071,1072,1073,1074,1075,1076,1077,1078,1079,1080,1081,1082,1083,1084,1085,1086,1087,1088,1089,1090,1091,1092,1093,1094,1095,1096,1097,1098,1099,1100,1101,1102,1103,1104,1105,1106,1107,1108,1109,1110,1111,1112,1113,1114,1115,1116,1117,1118,1119,1120,1121,1122,1123,1124,1125,1126,1127,1128,1129,1130,1131,1132,1133,1134,1135,1136,1137,1138,1139,1140,1141,1142,1143,1144,1145,1146,1147,1148,1149,1150,1151,1152,1153,1154,1155,1156,1157,1158,1159,1160,1161,1162,1163,1164,1165,1166,1167,1168,1169,1170,1171,1172,1173,1174,1175,1176,1177,1178,1179,1180,1181,1182,1183,1184,1185,1186,1187,1188,1189,1190,1191,1192,1193,1194,1195,1196,1197,1198,1199,1200,1201,1202,1203,1204,1205,1206,1207,1208,1209,1210,1211,1212,1213,1214,1215,1216,1217,1218,1219,1220,1221,1222,1223,1224,1225,1226,1227,1228,1229,1230,1231,1232,1233,1234,1235,1236,1237,1238,1239,1240,1241,1242,1243,1244,1245,1246,1247,1248,1249,1250,1251,1252,1253,1254,1255,1256,1257,1258,1259,1260,1261,1262,1263,1264,1265,1266,1267,1268,1269,1270,1271,1272,1273,1274,1275,1276,1277,1278,1279,1280,1281,1282,1283,1284,1285,1286,1287,1288,1289,1290,1291,1292,1293,1294,1295,1296,1297,1298,1299,1300,1301,1302,1303,1304,1305,1306,1307,1308,1309,1310,1311,1312,1313,1314,1315,1316,1317,1318,1319,1320,1321,1322,1323,1324,1325,1326,1327,1328,1329,1330,1331,1332,1333,1334,1335,1336,1337,1338,1339,1340,1341,1342,1343,1344,1345,1346,1347,1348,1349,1350,1351,1352,1353,1354,1355,1356,1357,1358,1359,1360,1361,1362,1363,1364,1365,1366,1367,1368,1369,1370,1371,1372,1373,1374,1375,1376,1377,1378,1379,1380,1381,1382,1383,1384,1385,1386,1387,1388,1389,1390,1391,1392,1393,1394,1395,1396,1397,1398,1399,1400,1401,1402,1403,1404,1405,1406,1407,1408,1409,1410,1411,1412,1413,1414,1415,1416,1417,1418,1419,1420,1421,1422,1423,1424,1425,1426,1427,1428,1429,1430,1431,1432,1433,1434,1435,1436,1437,1438,1439,1440,1441,1442,1443,1444,1445,1446,1447,1448,1449,1450,1451,1452,1453,1454,1455,1456,1457,1458,1459,1460,1461,1462,1463,1464,1465,1466,1467,1468,1469,1470,1471,1472,1473,1474,1475,1476,1477,1478,1479,1480,1481,1482,1483,1484,1485,1486,1487,1488,1489,1490,1491,1492,1493,1494,1495,1496,1497,1498,1499,1500,1501,1502,1503,1504,1505,1506,1507,1508,1509,1510,1511,1512,1513,1514,1515,1516,1517,1518,1519,1520,1521,1522,1523,1524,1525,1526,1527,1528,1529,1530,1531,1532,1533,1534,1535,1536,1537,1538,1539,1540,1541,1542,1543,1544,1545,1546,1547,1548,1549,1550,1551,1552,1553,1554,1555,1556,1557,1558,1559,1560,1561,1562,1563,1564,1565,1566,1567,1568,1569,1570,1571,1572,1573,1574,1575,1576,1577,1578,1579,1580,1581,1582,1583,1584,1585,1586,1587,1588,1589,1590,1591,1592,1593,1594,1595,1596,1597,1598,1599,1600,1601,1602,1603,1604,1605,1606,1607,1608,1609,1610,1611,1612,1613,1614,1615,1616,1617,1618,1619,1620,1621,1622,1623,1624,1625,1626,1627,1628,1629,1630,1631,1632,1633,1634,1635,1636,1637,1638,1639,1640,1641,1642,1643,1644,1645,1646,1647,1648,1649,1650,1651,1652,1653,1654,1655,1656,1657,1658,1659,1660,1661,1662,1663,1664,1665,1666,1667,1668,1669,1670,1671,1672,1673,1674,1675,1676,1677,1678,1679,1680,1681,1682,1683,1684,1685,1686,1687,1688,1689,1690,1691,1692,1693,1694,1695,1696,1697,1698,1699,1700,1701,1702,1703,1704,1705,1706,1707,1708,1709,1710,1711,1712,1713,1714,1715,1716,1717,1718,1719,1720,1721,1722,1723,1724,1725,1726,1727,1728,1729,1730,1731,1732,1733,1734,1735,1736,1737,1738,1739,1740,1741,1742,1743,1744,1745,1746,1747,1748,1749,1750,1751,1752,1753,1754,1755,1756,1757,1758,1759,1760,1761,1762,1763,1764,1765,1766,1767,1768,1769,1770,1771,1772,1773,1774,1775,1776,1777,1778,1779,1780,1781,1782,1783,1784,1785,1786,1787,1788,1789,1790,1791,1792,1793,1794,1795,1796,1797,1798,1799,1800,1801,1802,1803,1804,1805,1806,1807,1808,1809,1810,1811,1812,1813,1814,1815,1816,1817,1818,1819,1820,1821,1822,1823,1824,1825,1826,1827,1828,1829,1830,1831,1832,1833,1834,1835,1836,1837,1838,1839,1840,1841,1842,1843,1844,1845,1846,1847,1848,1849,1850,1851,1852,1853,1854,1855,1856,1857,1858,1859,1860,1861,1862,1863,1864,1865,1866,1867,1868,1869,1870,1871,1872,1873,1874,1875,1876,1877,1878,1879,1880,1881,1882,1883,1884,1885,1886,1887,1888,1889,1890,1891,1892,1893,1894,1895,1896,1897,1898,1899,1900,1901,1902,1903,1904,1905,1906,1907,1908,1909,1910,1911,1912,1913,1914,1915,1916,1917,1918,1919,1920,1921,1922,1923,1924,1925,1926,1927,1928,1929,1930,1931,1932,1933,1934,1935,1936,1937,1938,1939,1940,1941,1942,1943,1944,1945,1946,1947,1948,1949,1950,1951,1952,1953,1954,1955,1956,1957,1958,1959,1960,1961,1962,1963,1964,1965,1966,1967,1968,1969,1970,1971,1972,1973,1974,1975,1976,1977,1978,1979,1980,1981,1982,1983,1984,1985,1986,1987,1988,1989,1990,1991,1992,1993,1994,1995,1996,1997,1998,1999,2000,2001,2002,2003,2004,2005,2006,2007,2008,2009,2010,2011,2012,2013,2014,2015,2016,2017,2018,2019,2020,2021,2022,2023,2024,2025,2026,2027,2028,2029,2030,2031,2032,2033,2034,2035,2036,2037,2038,2039,2040,2041,2042,2043,2044,2045,2046,2047,2048,2049,2050,2051,2052,2053,2054,2055,2056,2057,2058,2059,2060,2061,2062,2063,2064,2065,2066,2067,2068,2069,2070,2071,2072,2073,2074,2075,2076,2077,2078,2079,2080,2081,2082,2083,2084,2085,2086,2087,2088,2089,2090,2091,2092,2093,2094,2095,2096,2097,2098,2099,2100,2101,2102,2103,2104,2105,2106,2107,2108,2109,2110,2111,2112,2113,2114,2115,2116,2117,2118,2119,2120,2121,2122,2123,2124,2125,2126,2127,2128,2129,2130,2131,2132,2133,2134,2135,2136,2137,2138,2139,2140,2141,2142,2143,2144,2145,2146,2147,2148,2149,2150,2151,2152,2153,2154,2155,2156,2157,2158,2159,2160,2161,2162,2163,2164,2165,2166,2167,2168,2169,2170,2171,2172,2173,2174,2175,2176,2177,2178,2179,2180,2181,2182,2183,2184,2185,2186,2187,2188,2189,2190,2191,2192,2193,2194,2195,2196,2197,2198,2199,2200,2201,2202,2203,2204,2205,2206,2207,2208,2209,2210,2211,2212,2213,2214,2215,2216,2217,2218,2219,2220,2221,2222,2223,2224,2225,2226,2227,2228,2229,2230,2231,2232,2233,2234,2235,2236,2237,2238,2239,2240,2241,2242,2243,2244,2245,2246,2247,2248,2249,2250,2251,2252,2253,2254,2255,2256,2257,2258,2259,2260,2261,2262,2263,2264,2265,2266,2267,2268,2269,2270,2271,2272,2273,2274,2275,2276,2277,2278,2279,2280,2281,2282,2283,2284,2285,2286,2287,2288,2289,2290,2291,2292,2293,2294,2295,2296,2297,2298,2299,2300,2301,2302,2303,2304,2305,2306,2307,2308,2309,2310,2311,2312,2313,2314,2315,2316,2317,2318,2319,2320,2321,2322,2323,2324,2325,2326,2327,2328,2329,2330,2331,2332,2333,2334,2335,2336,2337,2338,2339,2340,2341,2342,2343,2344,2345,2346,2347,2348,2349,2350,2351,2352,2353,2354,2355,2356,2357,2358,2359,2360,2361,2362,2363,2364,2365,2366,2367,2368,2369,2370,2371,2372,2373,2374,2375,2376,2377,2378,2379,2380,2381,2382,2383,2384,2385,2386,2387,2388,2389,2390,2391,2392,2393,2394,2395,2396,2397,2398,2399,2400,2401,2402,2403,2404,2405,2406,2407,2408,2409,2410,2411,2412,2413,2414,2415,2416,2417,2418,2419,2420,2421,2422,2423,2424,2425,2426,2427,2428,2429,2430,2431,2432,2433,2434,2435,2436,2437,2438,2439,2440,2441,2442,2443,2444,2445,2446,2447,2448,2449,2450,2451,2452,2453,2454,2455,2456,2457,2458,2459,2460,2461,2462,2463,2464,2465,2466,2467,2468,2469,2470,2471,2472,2473,2474,2475,2476,2477,2478,2479,2480,2481,2482,2483,2484,2485,2486,2487,2488,2489,2490,2491,2492,2493,2494,2495,2496,2497,2498,2499,2500) have mixed types.Specify dtype option on import or set low_memory=False.\n",
            "  interactivity=interactivity, compiler=compiler, result=result)\n"
          ],
          "name": "stderr"
        },
        {
          "output_type": "stream",
          "text": [
            "\n",
            "Shape of imported datasets: (1025, 2501)\n",
            "Updated shape of datasets: (972, 2500)\n",
            "Number of rows removed: 53\n"
          ],
          "name": "stdout"
        }
      ]
    },
    {
      "cell_type": "markdown",
      "metadata": {
        "id": "gZ20eB1MpuyW"
      },
      "source": [
        "###2.2 Testing Datasets"
      ]
    },
    {
      "cell_type": "code",
      "metadata": {
        "id": "Ni2-OAjLqLf_",
        "cellView": "form"
      },
      "source": [
        "#@title Specify filepaths where the testing data is located\n",
        "\n",
        "testFilepath1 = \"/content/gdrive/MyDrive/RamanSpectra/TestData(1-28-21)/TestL-(+)-Asparagine.csv\" #@param {type:\"string\"}\n",
        "testFilepath2 = \"/content/gdrive/MyDrive/RamanSpectra/TestData(1-28-21)/TestCHOPS.csv\" #@param {type:\"string\"}\n",
        "testFilepath3 = \"/content/gdrive/MyDrive/RamanSpectra/TestData(1-28-21)/TestGlycine.csv\" #@param {type:\"string\"}\n",
        "testFilepath4 = \"/content/gdrive/MyDrive/RamanSpectra/TestData(1-28-21)/TestL-Histidine.csv\" #@param {type:\"string\"}\n",
        "testFilepath5 = \"/content/gdrive/MyDrive/RamanSpectra/TestData(1-28-21)/TestL-Leucine.csv\" #@param {type:\"string\"}\n",
        "testFilepath6 = \"/content/gdrive/MyDrive/RamanSpectra/TestData(1-28-21)/TestL-Lysine.csv\" #@param {type:\"string\"}\n",
        "testFilepath7 =  \"/content/gdrive/MyDrive/RamanSpectra/TestData(1-28-21)/TestMOPS.csv\"#@param {type:\"string\"}\n",
        "testFilepath8 =  \"/content/gdrive/MyDrive/RamanSpectra/TestData(1-28-21)/TestBetaEstradiol.csv\"#@param {type:\"string\"}\n",
        "testFilepath9 =  \"/content/gdrive/MyDrive/RamanSpectra/TestData(1-28-21)/TestChloroquine2.csv\"#@param {type:\"string\"}\n",
        "testFilepath10 =  \"/content/gdrive/MyDrive/RamanSpectra/TestData(1-28-21)/TestFluconazole.csv\"#@param {type:\"string\"}\n",
        "testFilepath11 =  \"/content/gdrive/MyDrive/RamanSpectra/TestData(1-28-21)/TestForskolin.csv\"#@param {type:\"string\"}\n",
        "testFilepath12 = \"/content/gdrive/MyDrive/RamanSpectra/TestData(1-28-21)/TestLauricAcid.csv\" #@param {type:\"string\"}\n",
        "testFilepath13 =  \"/content/gdrive/MyDrive/RamanSpectra/TestData(1-28-21)/TestTryptophan.csv\"#@param {type:\"string\"}\n",
        "testFilepath14 =  \"/content/gdrive/MyDrive/RamanSpectra/TestData(1-28-21)/TestD-(+)-MaltoseMonohydrate.csv\"#@param {type:\"string\"}\n",
        "testFilepath15 =  \"/content/gdrive/MyDrive/RamanSpectra/TestData(1-28-21)/TestAnthrone.csv\"#@param {type:\"string\"}\n",
        "testFilepath16 =  \"/content/gdrive/MyDrive/RamanSpectra/TestData(1-28-21)/TestNaDodecylSulfate.csv\"#@param {type:\"string\"}\n",
        "testFilepath17 =  \"/content/gdrive/MyDrive/RamanSpectra/TestData(1-28-21)/TestPotatoStarch.csv\"#@param {type:\"string\"}\n",
        "testFilepath18 =  \"/content/gdrive/MyDrive/RamanSpectra/TestData(1-28-21)/TestProgesterone.csv\"#@param {type:\"string\"}\n",
        "testFilepath19 =  \"/content/gdrive/MyDrive/RamanSpectra/TestData(1-28-21)/TestUridine.csv\"#@param {type:\"string\"}\n",
        "testFilepath20 =  \"/content/gdrive/MyDrive/RamanSpectra/TestData(1-28-21)/TestSodiumDeoxycholate.csv\"#@param {type:\"string\"}\n",
        "#testFilepath21 =  \"/content/gdrive/MyDrive/RamanSpectra/TestData(1-28-21)/TestD-(+)-MaltoseMonohydrate.csv\"#@param {type:\"string\"}\n",
        "#testFilepath22 =  \"/content/gdrive/MyDrive/RamanSpectra/TimeSeries/data_14Time Series_000_Spec.Data 1.csv\"#@param {type:\"string\"}"
      ],
      "execution_count": null,
      "outputs": []
    },
    {
      "cell_type": "code",
      "metadata": {
        "colab": {
          "base_uri": "https://localhost:8080/"
        },
        "id": "yzwcf-eYqV52",
        "cellView": "form",
        "outputId": "6b1c96c8-19cb-4a38-fc22-f4eeb800567e"
      },
      "source": [
        "#@title Import testing data and remove rows previvously specified \n",
        "\n",
        "testing1 = pd.read_csv(testFilepath1)\n",
        "test1 = testing1.drop(testing1.index[numRows])\n",
        "test1 = test1.drop(columns='X-Axis')\n",
        "\n",
        "testing2 = pd.read_csv(testFilepath2)\n",
        "test2 = testing2.drop(testing2.index[numRows])\n",
        "test2 = test2.drop(columns='X-Axis')\n",
        "\n",
        "testing3 = pd.read_csv(testFilepath3)\n",
        "test3 = testing3.drop(testing3.index[numRows])\n",
        "test3 = test3.drop(columns='X-Axis')\n",
        "\n",
        "testing4 = pd.read_csv(testFilepath4)\n",
        "test4 = testing4.drop(testing4.index[numRows])\n",
        "test4 = test4.drop(columns='X-Axis')\n",
        "\n",
        "testing5 = pd.read_csv(testFilepath5)\n",
        "test5 = testing5.drop(testing5.index[numRows])\n",
        "test5 = test5.drop(columns='X-Axis')\n",
        "\n",
        "testing6 = pd.read_csv(testFilepath6)\n",
        "test6 = testing6.drop(testing6.index[numRows])\n",
        "test6 = test6.drop(columns='X-Axis')\n",
        "\n",
        "testing7 = pd.read_csv(testFilepath7)\n",
        "test7 = testing7.drop(testing7.index[numRows])\n",
        "test7 = test7.drop(columns='X-Axis')\n",
        "\n",
        "testing8 = pd.read_csv(testFilepath8)\n",
        "test8 = testing8.drop(testing8.index[numRows])\n",
        "test8 = test8.drop(columns='X-Axis')\n",
        "\n",
        "testing9 = pd.read_csv(testFilepath9)\n",
        "test9 = testing9.drop(testing9.index[numRows])\n",
        "test9 = test9.drop(columns='X-Axis')\n",
        "\n",
        "testing10 = pd.read_csv(testFilepath10)\n",
        "test10 = testing10.drop(testing10.index[numRows])\n",
        "test10 = test10.drop(columns='X-Axis')\n",
        "\n",
        "testing11 = pd.read_csv(testFilepath11)\n",
        "test11 = testing11.drop(testing11.index[numRows])\n",
        "test11 = test11.drop(columns='X-Axis')\n",
        "\n",
        "testing12 = pd.read_csv(testFilepath12)\n",
        "test12 = testing12.drop(testing12.index[numRows])\n",
        "test12 = test12.drop(columns='X-Axis')\n",
        "\n",
        "testing13 = pd.read_csv(testFilepath13)\n",
        "test13 = testing13.drop(testing13.index[numRows])\n",
        "test13 = test13.drop(columns='X-Axis')\n",
        "\n",
        "testing14 = pd.read_csv(testFilepath14)\n",
        "test14 = testing14.drop(testing14.index[numRows])\n",
        "test14 = test14.drop(columns='X-Axis')\n",
        "\n",
        "testing15 = pd.read_csv(testFilepath15)\n",
        "test15 = testing15.drop(testing15.index[numRows])\n",
        "test15 = test15.drop(columns='X-Axis')\n",
        "\n",
        "testing16 = pd.read_csv(testFilepath16)\n",
        "test16 = testing16.drop(testing16.index[numRows])\n",
        "test16 = test16.drop(columns='X-Axis')\n",
        "\n",
        "testing16 = pd.read_csv(testFilepath16)\n",
        "test16 = testing16.drop(testing16.index[numRows])\n",
        "test16 = test16.drop(columns='X-Axis')\n",
        "\n",
        "testing17 = pd.read_csv(testFilepath17)\n",
        "test17 = testing17.drop(testing17.index[numRows])\n",
        "test17 = test17.drop(columns='X-Axis')\n",
        "\n",
        "testing18 = pd.read_csv(testFilepath18)\n",
        "test18 = testing18.drop(testing18.index[numRows])\n",
        "test18 = test18.drop(columns='X-Axis')\n",
        "\n",
        "testing19 = pd.read_csv(testFilepath19)\n",
        "test19 = testing19.drop(testing19.index[numRows])\n",
        "test19 = test19.drop(columns='X-Axis')\n",
        "\n",
        "testing20 = pd.read_csv(testFilepath20)\n",
        "test20 = testing20.drop(testing20.index[numRows])\n",
        "test20 = test20.drop(columns='X-Axis')\n",
        "\n",
        "#testing21 = pd.read_csv(testFilepath21)\n",
        "#test21 = testing21.drop(testing21.index[numRows])\n",
        "#test21 = test21.drop(columns='X-Axis')\n",
        "\n",
        "\n",
        "\n",
        "print(\"Shape of imported testing datasets:\", testing1.shape)\n",
        "print(\"Updated shape of testing datsets:\", test1.shape)\n",
        "print(\"Number of rows removed:\", Row2+1)"
      ],
      "execution_count": null,
      "outputs": [
        {
          "output_type": "stream",
          "text": [
            "/usr/local/lib/python3.6/dist-packages/IPython/core/interactiveshell.py:2718: DtypeWarning: Columns (0,1,2,3,4,5,6,7,8,9,10,11,12,13,14,15,16,17,18,19,20,21,22,23,24,25,26,27,28,29,30,31,32,33,34,35,36,37,38,39,40,41,42,43,44,45,46,47,48,49,50,51,52,53,54,55,56,57,58,59,60,61,62,63,64,65,66,67,68,69,70,71,72,73,74,75,76,77,78,79,80,81,82,83,84,85,86,87,88,89,90,91,92,93,94,95,96,97,98,99,100,101,102,103,104,105,106,107,108,109,110,111,112,113,114,115,116,117,118,119,120,121,122,123,124,125,126,127,128,129,130,131,132,133,134,135,136,137,138,139,140,141,142,143,144,145,146,147,148,149,150,151,152,153,154,155,156,157,158,159,160,161,162,163,164,165,166,167,168,169,170,171,172,173,174,175,176,177,178,179,180,181,182,183,184,185,186,187,188,189,190,191,192,193,194,195,196,197,198,199,200,201,202,203,204,205,206,207,208,209,210,211,212,213,214,215,216,217,218,219,220,221,222,223,224,225,226,227,228,229,230,231,232,233,234,235,236,237,238,239,240,241,242,243,244,245,246,247,248,249,250,251,252,253,254,255,256,257,258,259,260,261,262,263,264,265,266,267,268,269,270,271,272,273,274,275,276,277,278,279,280,281,282,283,284,285,286,287,288,289,290,291,292,293,294,295,296,297,298,299,300,301,302,303,304,305,306,307,308,309,310,311,312,313,314,315,316,317,318,319,320,321,322,323,324,325,326,327,328,329,330,331,332,333,334,335,336,337,338,339,340,341,342,343,344,345,346,347,348,349,350,351,352,353,354,355,356,357,358,359,360,361,362,363,364,365,366,367,368,369,370,371,372,373,374,375,376,377,378,379,380,381,382,383,384,385,386,387,388,389,390,391,392,393,394,395,396,397,398,399,400,401,402,403,404,405,406,407,408,409,410,411,412,413,414,415,416,417,418,419,420,421,422,423,424,425,426,427,428,429,430,431,432,433,434,435,436,437,438,439,440,441,442,443,444,445,446,447,448,449,450,451,452,453,454,455,456,457,458,459,460,461,462,463,464,465,466,467,468,469,470,471,472,473,474,475,476,477,478,479,480,481,482,483,484,485,486,487,488,489,490,491,492,493,494,495,496,497,498,499,500,501,502,503,504,505,506,507,508,509,510,511,512,513,514,515,516,517,518,519,520,521,522,523,524,525,526,527,528,529) have mixed types.Specify dtype option on import or set low_memory=False.\n",
            "  interactivity=interactivity, compiler=compiler, result=result)\n"
          ],
          "name": "stderr"
        },
        {
          "output_type": "stream",
          "text": [
            "Shape of imported testing datasets: (1025, 530)\n",
            "Updated shape of testing datsets: (972, 529)\n",
            "Number of rows removed: 53\n"
          ],
          "name": "stdout"
        }
      ]
    },
    {
      "cell_type": "markdown",
      "metadata": {
        "id": "4CqbQCRUpEbh"
      },
      "source": [
        "##3.0 Add Labels to the Datasets\n"
      ]
    },
    {
      "cell_type": "markdown",
      "metadata": {
        "id": "Lo1SNBbTr3Uc"
      },
      "source": [
        "###3.1 Training Data"
      ]
    },
    {
      "cell_type": "code",
      "metadata": {
        "id": "oEpJ-STlqtO9",
        "cellView": "form"
      },
      "source": [
        "#@title Create labels for the training data\n",
        "train1_lab = [0]*train1.shape[1]\n",
        "train2_lab = [1]*train2.shape[1]\n",
        "train3_lab = [2]*train3.shape[1]\n",
        "train4_lab = [3]*train4.shape[1]\n",
        "train5_lab = [4]*train5.shape[1]\n",
        "train6_lab = [5]*train6.shape[1]\n",
        "train7_lab = [6]*train7.shape[1]\n",
        "train8_lab = [7]*train8.shape[1]\n",
        "train9_lab = [8]*train9.shape[1]\n",
        "train10_lab = [9]*train10.shape[1]\n",
        "train11_lab = [10]*train11.shape[1]\n",
        "train12_lab = [11]*train12.shape[1]\n",
        "train13_lab = [12]*train13.shape[1]\n",
        "train14_lab = [13]*train14.shape[1]\n",
        "train15_lab = [14]*train15.shape[1]\n",
        "train16_lab = [15]*train16.shape[1]\n",
        "train17_lab = [16]*train17.shape[1]\n",
        "train18_lab = [17]*train18.shape[1]\n",
        "train19_lab = [18]*train19.shape[1]\n",
        "train20_lab = [19]*train20.shape[1]\n",
        "#train21_lab = [20]*train21.shape[1]\n",
        "\n",
        "#transpose datasets\n",
        "train1 = train1.T \n",
        "train2 = train2.T\n",
        "train3 = train3.T\n",
        "train4 = train4.T\n",
        "train5 = train5.T\n",
        "train6 = train6.T\n",
        "train7 = train7.T\n",
        "train8 = train8.T\n",
        "train9 = train9.T\n",
        "train10 = train10.T\n",
        "train11 = train11.T\n",
        "train12 = train12.T\n",
        "train13 = train13.T\n",
        "train14 = train14.T\n",
        "train15 = train15.T\n",
        "train16 = train16.T\n",
        "train17 = train17.T\n",
        "train18 = train18.T\n",
        "train19 = train19.T\n",
        "train20 = train20.T\n",
        "#train21 = train21.T\n",
        "\n",
        "train1['Label'] = train1_lab\n",
        "train2['Label'] = train2_lab\n",
        "train3['Label'] = train3_lab\n",
        "train4['Label'] = train4_lab\n",
        "train5['Label'] = train5_lab\n",
        "train6['Label'] = train6_lab\n",
        "train7['Label'] = train7_lab\n",
        "train8['Label'] = train8_lab\n",
        "train9['Label'] = train9_lab\n",
        "train10['Label'] = train10_lab\n",
        "train11['Label'] = train11_lab\n",
        "train12['Label'] = train12_lab\n",
        "train13['Label'] = train13_lab\n",
        "train14['Label'] = train14_lab\n",
        "train15['Label'] = train15_lab\n",
        "train16['Label'] = train16_lab\n",
        "train17['Label'] = train17_lab\n",
        "train18['Label'] = train18_lab\n",
        "train19['Label'] = train19_lab\n",
        "train20['Label'] = train20_lab\n",
        "#train21['Label'] = train21_lab\n"
      ],
      "execution_count": null,
      "outputs": []
    },
    {
      "cell_type": "markdown",
      "metadata": {
        "id": "9KTFreqbr8r5"
      },
      "source": [
        "###3.2 Testing Data"
      ]
    },
    {
      "cell_type": "code",
      "metadata": {
        "id": "qNa5iciYqvOe",
        "cellView": "form"
      },
      "source": [
        "#@title Create labels for the testing data\n",
        "\n",
        "test1_lab = [0]*test1.shape[1]\n",
        "test2_lab = [1]*test2.shape[1]\n",
        "test3_lab = [2]*test3.shape[1]\n",
        "test4_lab = [3]*test4.shape[1]\n",
        "test5_lab = [4]*test5.shape[1]\n",
        "test6_lab = [5]*test6.shape[1]\n",
        "test7_lab = [6]*test7.shape[1]\n",
        "test8_lab = [7]*test8.shape[1]\n",
        "test9_lab = [8]*test9.shape[1]\n",
        "test10_lab = [9]*test10.shape[1]\n",
        "test11_lab = [10]*test11.shape[1]\n",
        "test12_lab = [11]*test12.shape[1]\n",
        "test13_lab = [12]*test13.shape[1]\n",
        "test14_lab = [13]*test14.shape[1]\n",
        "test15_lab = [14]*test15.shape[1]\n",
        "test16_lab = [15]*test16.shape[1]\n",
        "test17_lab = [16]*test17.shape[1]\n",
        "test18_lab = [17]*test18.shape[1]\n",
        "test19_lab = [18]*test19.shape[1]\n",
        "test20_lab = [19]*test20.shape[1]\n",
        "#test21_lab = [20]*test21.shape[1]\n",
        "\n",
        "#transpose datasets\n",
        "test1 = test1.T\n",
        "test2 = test2.T\n",
        "test3 = test3.T\n",
        "test4 = test4.T\n",
        "test5 = test5.T\n",
        "test6 = test6.T\n",
        "test7 = test7.T\n",
        "test8 = test8.T\n",
        "test9 = test9.T\n",
        "test10 = test10.T\n",
        "test11 = test11.T\n",
        "test12 = test12.T\n",
        "test13 = test13.T\n",
        "test14 = test14.T\n",
        "test15 = test15.T\n",
        "test16 = test16.T\n",
        "test17 = test17.T\n",
        "test18 = test18.T\n",
        "test19 = test19.T\n",
        "test20 = test20.T\n",
        "#test21 = test21.T\n",
        "\n",
        "test1['Label'] = test1_lab\n",
        "test2['Label'] = test2_lab\n",
        "test3['Label'] = test3_lab\n",
        "test4['Label'] = test4_lab\n",
        "test5['Label'] = test5_lab\n",
        "test6['Label'] = test6_lab\n",
        "test7['Label'] = test7_lab\n",
        "test8['Label'] = test8_lab\n",
        "test9['Label'] = test9_lab\n",
        "test10['Label'] = test10_lab\n",
        "test11['Label'] = test11_lab\n",
        "test12['Label'] = test12_lab\n",
        "test13['Label'] = test13_lab\n",
        "test14['Label'] = test14_lab\n",
        "test15['Label'] = test15_lab\n",
        "test16['Label'] = test16_lab\n",
        "test17['Label'] = test17_lab\n",
        "test18['Label'] = test18_lab\n",
        "test19['Label'] = test19_lab\n",
        "test20['Label'] = test20_lab\n",
        "#test21['Label'] = test21_lab"
      ],
      "execution_count": null,
      "outputs": []
    },
    {
      "cell_type": "markdown",
      "metadata": {
        "id": "h4-o4kNno-Wp"
      },
      "source": [
        "##4.0 Preparing the data for ResNet"
      ]
    },
    {
      "cell_type": "code",
      "metadata": {
        "id": "nqQKnPcGq8dl",
        "cellView": "form"
      },
      "source": [
        "#@title Concatenate the training data (and the labels) into one dataframe. (current model shuffles data immediately after concatenating)\n",
        "\n",
        "train = pd.concat([train1, train2, train3, train4, train5, \n",
        "                   train6, train7, train8, train9, train10, \n",
        "                   train11, train12, train13, train14, train15,\n",
        "                   train16, train17, train18, train19, train20])\n",
        "\n",
        "train_shuffle = train.sample(frac=1)\n",
        "\n",
        "train_lab = train_shuffle.pop(\"Label\")\n",
        "train_lab = np.reshape(np.array(train_lab), (len(train_lab),1))\n",
        "train_inpt = np.array(train_shuffle)\n",
        "\n",
        "train_data = (train_inpt, train_lab)"
      ],
      "execution_count": null,
      "outputs": []
    },
    {
      "cell_type": "code",
      "metadata": {
        "cellView": "form",
        "id": "wAABoDkArEyO"
      },
      "source": [
        "#@title Pickle the concatenated/shuffled datasets\n",
        "filePath = \"/content/gdrive/MyDrive/Colab Notebooks/train_data.picke\" #@param {type: \"raw\"}\n",
        "out_training = open(filePath,\"wb\")\n",
        "pickle.dump(train_data, out_training)\n",
        "out_training.close()"
      ],
      "execution_count": null,
      "outputs": []
    },
    {
      "cell_type": "code",
      "metadata": {
        "cellView": "form",
        "id": "xOY-EIhLrJ1p"
      },
      "source": [
        "#@title Load the Pickled file\n",
        "\n",
        "in_training =open(\"/content/gdrive/MyDrive/Colab Notebooks/test_data.pickle\", \"rb\")\n",
        "data = pickle.load(in_training)\n",
        "in_training.close("
      ],
      "execution_count": null,
      "outputs": []
    },
    {
      "cell_type": "code",
      "metadata": {
        "cellView": "form",
        "id": "G85fXfIcQAe4"
      },
      "source": [
        "#@title Preprocess the data\n",
        "\n",
        "from keras.utils import to_categorical\n",
        "\n",
        "inpt = train_data[0].reshape(train_data[0].shape[0],train_data[0].shape[1],1)\n",
        "inpt = inpt.astype('float32')\n",
        "\n",
        "lab = train_data[1]\n",
        "lab = lab.astype('float32')\n",
        "lab = to_categorical(lab)\n",
        "\n",
        "#np.asarray(x).astype('float32')"
      ],
      "execution_count": null,
      "outputs": []
    },
    {
      "cell_type": "markdown",
      "metadata": {
        "id": "QNHUoIgZosth"
      },
      "source": [
        "##5.0 Training the ResNet"
      ]
    },
    {
      "cell_type": "code",
      "metadata": {
        "id": "iODNBNZvTkOO",
        "cellView": "form"
      },
      "source": [
        "NumberClasses =  20 #@param {type:\"number\"}\n",
        "#NumberFilters = 64 #@param {type:\"number\"}\n",
        "LearningRate = 0.0001 #@param {type:\"number\"}\n",
        "NumberEpochs = 25 #@param {type:\"number\"\n",
        "BatchSize = 128 #@param {type:\"number\"}\n",
        "Stride =  1#@param {type:\"raw\"}\n",
        "LassoRegression = 0 #@param {type:\"number\"}\n",
        "RidgeRegression = 0 #@param {type:\"number\"}\n",
        "\n",
        "L1=LassoRegression\n",
        "L2=RidgeRegression"
      ],
      "execution_count": null,
      "outputs": []
    },
    {
      "cell_type": "code",
      "metadata": {
        "id": "M8SlgaF3Q70L",
        "cellView": "form"
      },
      "source": [
        "#@title Define the Identity and Convolutional Blocks\n",
        "\n",
        "from tensorflow.keras.layers import Conv1D, BatchNormalization, Activation, Add\n",
        "from tensorflow.keras import models, layers\n",
        "from tensorflow.keras import regularizers\n",
        "\n",
        "initializer = tf.keras.initializers.GlorotUniform(seed=0)\n",
        "\n",
        "def identity_block(X, f, filters, stage, block):\n",
        "\n",
        "  #defining name basis\n",
        "  ConvNameBase = 'res' + str(stage) + block + '_branch'\n",
        "  BatchNormBase = 'bn' + str(stage) + block + '_branch'\n",
        "\n",
        "  #retrieve filters\n",
        "  F1, F2, F3 = filters\n",
        "\n",
        "  #save the input value. You'll need this later to add back the main path\n",
        "  x_shortcut = X\n",
        "\n",
        "  #First component of the main path\n",
        "  X = Conv1D(filters=F1, kernel_size=1, strides=Stride, padding='same', \n",
        "             kernel_initializer=initializer, \n",
        "             name=ConvNameBase + '2a')(X)\n",
        "  X = BatchNormalization(axis=2, name = BatchNormBase + '2a')(X)\n",
        "  X = Activation('relu')(X)\n",
        "\n",
        "  #Second component of main path\n",
        "  X = Conv1D(filters=F2, kernel_size=f, strides=Stride, padding='same', \n",
        "             kernel_initializer=initializer, \n",
        "             name=ConvNameBase + '2b')(X)\n",
        "  X = BatchNormalization(axis=2, name=BatchNormBase + '2b')(X)\n",
        "  X = Activation('relu')(X)\n",
        "\n",
        "  #Third Component of main path\n",
        "  X = Conv1D(filters=F3, kernel_size=1, strides=Stride, padding='same',\n",
        "             kernel_initializer=initializer,\n",
        "             name=ConvNameBase + '2c')(X)\n",
        "  X = BatchNormalization(axis=2, name=BatchNormBase + '2c')(X)\n",
        "  \n",
        "  #Final step: add shortcut to the main path, and pass it through ReLU activation\n",
        "  X = Add()([X, x_shortcut])\n",
        "  X = Activation('relu')(X)\n",
        "\n",
        "  return X\n",
        "\n",
        "def convolutional_block(X, f, filters, stage, block, s=2):\n",
        "\n",
        "  #Defining name bases\n",
        "  ConvNameBase = 'res' + str(stage) + block + '_branch'\n",
        "  BatchNormBase = 'res' + str(stage) + block + '_branch'\n",
        "\n",
        "  #retrive n_filters\n",
        "  F1, F2, F3 = filters\n",
        "\n",
        "  #Save the input value\n",
        "  x_shortcut = X\n",
        "\n",
        "  #First component of the main path\n",
        "  X = Conv1D(F1, strides=s, kernel_size=f, kernel_initializer=initializer,\n",
        "             padding='same', name=ConvNameBase + '2a')(X)\n",
        "  X = BatchNormalization(axis=2, name=BatchNormBase + '2a')(X)\n",
        "  X = Activation('relu')(X)\n",
        "\n",
        "  #Second Component of main path\n",
        "  X = Conv1D(filters=F2, kernel_size=f, strides=Stride, padding='same',\n",
        "             kernel_initializer=initializer,\n",
        "             name=ConvNameBase + '2b')(X)\n",
        "  X = BatchNormalization(axis=2, name=BatchNormBase + '2b')(X)\n",
        "  X = Activation('relu')(X)\n",
        "\n",
        "  #Third component of main path\n",
        "  X = Conv1D(filters=F3, kernel_size=f, strides=Stride, padding='same',\n",
        "             kernel_initializer=initializer,\n",
        "             name=ConvNameBase + '2c')(X)\n",
        "  X = BatchNormalization(axis=2, name=BatchNormBase + '2c')(X)\n",
        "\n",
        "  ###### SHORTCUT PATH ######\n",
        "  x_shortcut = Conv1D(filters = F3, kernel_size=1, strides=s, \n",
        "                      padding='same', name=ConvNameBase + '1',\n",
        "                      kernel_initializer=initializer)(x_shortcut)\n",
        "  x_shortcut = BatchNormalization(axis=2, name=BatchNormBase + '1')(x_shortcut)\n",
        "\n",
        "  #Add shortcut to main path and pass in through ReLU activation\n",
        "  X = Add()([X, x_shortcut])\n",
        "  X = Activation('relu')(X)\n",
        "\n",
        "  return X"
      ],
      "execution_count": null,
      "outputs": []
    },
    {
      "cell_type": "code",
      "metadata": {
        "id": "0isl1jqVVw5y",
        "cellView": "form"
      },
      "source": [
        "#@title Compile ResNet Mk2\n",
        "from tensorflow.keras.layers import ZeroPadding1D, MaxPooling1D, AveragePooling1D, GlobalAveragePooling1D, Flatten, Dense\n",
        "from tensorflow.keras.models import Model\n",
        "from tensorflow.keras import initializers\n",
        "from keras.utils.vis_utils import plot_model\n",
        "\n",
        "\n",
        "x_input = keras.layers.Input([train_data[0].shape[1],1])\n",
        "\n",
        "X = ZeroPadding1D(padding=3)(x_input)\n",
        "\n",
        "#stage 1\n",
        "X = Conv1D(64, kernel_size=7, strides=2,\n",
        "           name='Convolution1', kernel_initializer=initializer)(X)\n",
        "X = BatchNormalization(name=\"BatchNormConv1\")(X)\n",
        "X = keras.layers.Activation('relu')(X)\n",
        "X = MaxPooling1D(3, strides=2)(X)\n",
        "\n",
        "#Stage 2\n",
        "X = convolutional_block(X, f=3, filters=[64, 64, 256], stage=2, block='a', s=1)\n",
        "X = identity_block(X, 3, [64, 64, 256], stage=2, block='b')\n",
        "X = identity_block(X, 3, [64, 64, 256], stage=2, block='c')\n",
        "\n",
        "#Stage 3\n",
        "X = convolutional_block(X, f=3, filters=[128, 128, 512], stage=3,\n",
        "                        block='a', s=2)\n",
        "X = identity_block(X, 3, [128, 128, 512], stage=3, block='b')\n",
        "X = identity_block(X, 3, [128, 128, 512], stage=3, block='c')\n",
        "\n",
        "#Stage 4 \n",
        "X = convolutional_block(X, f=3, filters=[256, 256, 1024], stage=4,\n",
        "                        block='a', s=2)\n",
        "X = identity_block(X, 3, [256, 256, 1024], stage=4, block='b')\n",
        "X = identity_block(X, 3, [256, 256, 1024], stage=4, block='c')\n",
        "X = identity_block(X, 3, [256, 256, 1024], stage=4, block='d')\n",
        "X = identity_block(X, 3, [256, 256, 1024], stage=4, block='e')\n",
        "\n",
        "X = GlobalAveragePooling1D(name=\"GAP1D\")(X)\n",
        "\n",
        "###### OUTPUT LAYER ######\n",
        "X = Flatten()(X)\n",
        "X = Dense(NumberClasses, activation='softmax', name='FC_output' +str(NumberClasses),\n",
        "          kernel_initializer=initializer)(X)\n",
        "\n",
        "ResNet = Model(inputs = x_input, outputs=X, name='ResNetMk2')\n",
        "ResNet.compile(optimizer=keras.optimizers.Adam(learning_rate=0.0001, \n",
        "                                               beta_1=0.9, beta_2=0.999, \n",
        "                                               epsilon=1e-07),\n",
        "               loss='categorical_crossentropy', metrics=['accuracy'])\n",
        "#ResNet.summary()\n",
        "#plot_model(ResNet, show_shapes=True, show_layer_names=True)"
      ],
      "execution_count": null,
      "outputs": []
    },
    {
      "cell_type": "code",
      "metadata": {
        "id": "KL8vgEbob5K2",
        "colab": {
          "base_uri": "https://localhost:8080/"
        },
        "cellView": "form",
        "outputId": "143bcc4c-0655-42a0-fc73-9ef7139c1d55"
      },
      "source": [
        "#@title Train ResNet Mk2\n",
        "\n",
        "resnet = ResNet.fit(inpt, lab, epochs=NumberEpochs,\n",
        "                    batch_size=BatchSize,\n",
        "                    validation_split=0.2)"
      ],
      "execution_count": null,
      "outputs": [
        {
          "output_type": "stream",
          "text": [
            "Epoch 1/25\n",
            "313/313 [==============================] - 104s 284ms/step - loss: 0.6171 - accuracy: 0.8321 - val_loss: 6.7490 - val_accuracy: 0.0984\n",
            "Epoch 2/25\n",
            "313/313 [==============================] - 89s 283ms/step - loss: 0.0202 - accuracy: 0.9958 - val_loss: 1.3577 - val_accuracy: 0.7890\n",
            "Epoch 3/25\n",
            "313/313 [==============================] - 89s 283ms/step - loss: 0.0011 - accuracy: 0.9999 - val_loss: 1.1892e-04 - val_accuracy: 1.0000\n",
            "Epoch 4/25\n",
            "313/313 [==============================] - 89s 283ms/step - loss: 8.6621e-04 - accuracy: 0.9999 - val_loss: 2.1534e-04 - val_accuracy: 1.0000\n",
            "Epoch 5/25\n",
            "313/313 [==============================] - 89s 283ms/step - loss: 0.0199 - accuracy: 0.9966 - val_loss: 3.2804e-04 - val_accuracy: 1.0000\n",
            "Epoch 6/25\n",
            "313/313 [==============================] - 89s 283ms/step - loss: 0.0031 - accuracy: 0.9996 - val_loss: 3.2255 - val_accuracy: 0.7153\n",
            "Epoch 7/25\n",
            "313/313 [==============================] - 89s 283ms/step - loss: 0.0031 - accuracy: 0.9994 - val_loss: 0.0104 - val_accuracy: 0.9979\n",
            "Epoch 8/25\n",
            "313/313 [==============================] - 89s 283ms/step - loss: 0.0032 - accuracy: 0.9992 - val_loss: 9.8879 - val_accuracy: 0.8356\n",
            "Epoch 9/25\n",
            "313/313 [==============================] - 88s 282ms/step - loss: 0.0018 - accuracy: 0.9998 - val_loss: 1.0279e-04 - val_accuracy: 1.0000\n",
            "Epoch 10/25\n",
            "313/313 [==============================] - 89s 283ms/step - loss: 9.2764e-05 - accuracy: 1.0000 - val_loss: 7.3090e-05 - val_accuracy: 1.0000\n",
            "Epoch 11/25\n",
            "313/313 [==============================] - 89s 284ms/step - loss: 5.1595e-05 - accuracy: 1.0000 - val_loss: 3.0831e-05 - val_accuracy: 1.0000\n",
            "Epoch 12/25\n",
            "313/313 [==============================] - 89s 283ms/step - loss: 2.9338e-04 - accuracy: 1.0000 - val_loss: 1.0056 - val_accuracy: 0.7740\n",
            "Epoch 13/25\n",
            "313/313 [==============================] - 89s 283ms/step - loss: 4.0075e-04 - accuracy: 1.0000 - val_loss: 3.6082e-05 - val_accuracy: 1.0000\n",
            "Epoch 14/25\n",
            "313/313 [==============================] - 88s 283ms/step - loss: 0.0011 - accuracy: 0.9998 - val_loss: 5.4405e-05 - val_accuracy: 1.0000\n",
            "Epoch 15/25\n",
            "313/313 [==============================] - 88s 283ms/step - loss: 3.6481e-05 - accuracy: 1.0000 - val_loss: 1.3284e-05 - val_accuracy: 1.0000\n",
            "Epoch 16/25\n",
            "313/313 [==============================] - 88s 283ms/step - loss: 3.0266e-05 - accuracy: 1.0000 - val_loss: 3.3304e-05 - val_accuracy: 1.0000\n",
            "Epoch 17/25\n",
            "313/313 [==============================] - 88s 283ms/step - loss: 0.0191 - accuracy: 0.9949 - val_loss: 8.6595e-05 - val_accuracy: 1.0000\n",
            "Epoch 18/25\n",
            "313/313 [==============================] - 89s 283ms/step - loss: 7.8136e-05 - accuracy: 1.0000 - val_loss: 3.2501e-05 - val_accuracy: 1.0000\n",
            "Epoch 19/25\n",
            "313/313 [==============================] - 89s 283ms/step - loss: 6.7449e-04 - accuracy: 0.9999 - val_loss: 0.0050 - val_accuracy: 0.9991\n",
            "Epoch 20/25\n",
            "313/313 [==============================] - 89s 283ms/step - loss: 0.0053 - accuracy: 0.9984 - val_loss: 0.9723 - val_accuracy: 0.7806\n",
            "Epoch 21/25\n",
            "313/313 [==============================] - 88s 283ms/step - loss: 3.8647e-04 - accuracy: 1.0000 - val_loss: 1.7303e-05 - val_accuracy: 1.0000\n",
            "Epoch 22/25\n",
            "313/313 [==============================] - 88s 283ms/step - loss: 4.4926e-05 - accuracy: 1.0000 - val_loss: 1.3710e-05 - val_accuracy: 1.0000\n",
            "Epoch 23/25\n",
            "313/313 [==============================] - 88s 283ms/step - loss: 2.4911e-05 - accuracy: 1.0000 - val_loss: 7.2453e-06 - val_accuracy: 1.0000\n",
            "Epoch 24/25\n",
            "313/313 [==============================] - 89s 283ms/step - loss: 1.5582e-05 - accuracy: 1.0000 - val_loss: 7.2951e-06 - val_accuracy: 1.0000\n",
            "Epoch 25/25\n",
            "313/313 [==============================] - 89s 283ms/step - loss: 1.2245e-05 - accuracy: 1.0000 - val_loss: 5.4296e-06 - val_accuracy: 1.0000\n"
          ],
          "name": "stdout"
        }
      ]
    },
    {
      "cell_type": "code",
      "metadata": {
        "id": "-1qoYhGQtkPP",
        "colab": {
          "base_uri": "https://localhost:8080/",
          "height": 301
        },
        "cellView": "form",
        "outputId": "de60674a-6760-41ef-a343-10ae773bb777"
      },
      "source": [
        "#@title Model training accuracy\n",
        "from matplotlib import pyplot as plt\n",
        "\n",
        "plt.plot(resnet.history['accuracy'], label='Accuracy')\n",
        "plt.plot(resnet.history['val_accuracy'], label='Validation \\n Accuracy')\n",
        "plt.xlabel('Epoch')\n",
        "plt.ylabel('Accuracy')\n",
        "plt.ylim([0.1, 1.05])\n",
        "plt.legend(loc='lower right')\n",
        "#plt.title(\"ResNet CNN\")\n",
        "#plt.savefig(f\"{images_dir}/acc.png\")\n",
        "plt.show()"
      ],
      "execution_count": null,
      "outputs": [
        {
          "output_type": "display_data",
          "data": {
            "image/png": "[encoded data removed]",
            "text/plain": [
              "<Figure size 432x288 with 1 Axes>"
            ]
          },
          "metadata": {
            "tags": [],
            "needs_background": "light"
          }
        }
      ]
    },
    {
      "cell_type": "code",
      "metadata": {
        "id": "5F9DY9JvtsDN",
        "colab": {
          "base_uri": "https://localhost:8080/",
          "height": 308
        },
        "cellView": "form",
        "outputId": "b15c3ae6-9e56-4c4c-d85d-c4b619b14c64"
      },
      "source": [
        "#@title Model training loss\n",
        "\n",
        "plt.plot(resnet.history['loss'], label='Loss')\n",
        "plt.plot(resnet.history['val_loss'], label='Validation \\n Loss')\n",
        "plt.xlabel('Epoch')\n",
        "plt.ylabel('Accuracy')\n",
        "plt.ylim([-0.05, 10.0])\n",
        "plt.legend(loc='upper right')\n",
        "#plt.savefig(f\"{images_dir}/loss.png\")\n",
        "plt.show()"
      ],
      "execution_count": null,
      "outputs": [
        {
          "output_type": "display_data",
          "data": {
            "image/png": "[encoded data removed]",
            "text/plain": [
              "<Figure size 432x288 with 1 Axes>"
            ]
          },
          "metadata": {
            "tags": [],
            "needs_background": "light"
          }
        }
      ]
    },
    {
      "cell_type": "markdown",
      "metadata": {
        "id": "4eDDlJuLo2mg"
      },
      "source": [
        "##6.0 Test the network"
      ]
    },
    {
      "cell_type": "code",
      "metadata": {
        "cellView": "form",
        "id": "RNjCItJXt4YH"
      },
      "source": [
        "#@title Concatenate the testing dataset\n",
        "\n",
        "test = pd.concat([test1, test2, test3, test4, test5, \n",
        "                  test6, test7, test8, test9, test10, \n",
        "                  test11, test12, test13, test14, test15, \n",
        "                  test16, test17, test18, test19, test20])\n",
        "test_data = test.sample(frac=1)\n",
        "\n",
        "test_lab = test_data.pop(\"Label\")\n",
        "test_lab = np.reshape(np.array(test_lab), (len(test_lab),1))\n",
        "test_inpt = np.array(test_data)\n",
        "\n",
        "t_data = (test_inpt, test_lab)\n",
        "\n",
        "test_out = open(\"/content/gdrive/My Drive/Colab Notebooks/test_data.pickle\", \"wb\")\n",
        "pickle.dump(t_data, test_out)\n",
        "test_out.close()\n",
        "\n",
        "test_in = open(\"/content/gdrive/My Drive/Colab Notebooks/test_data.pickle\", \"rb\")\n",
        "t_data = pickle.load(test_in)\n",
        "test_in.close()\n"
      ],
      "execution_count": null,
      "outputs": []
    },
    {
      "cell_type": "code",
      "metadata": {
        "cellView": "form",
        "id": "jo3p9_SpuDTR"
      },
      "source": [
        "#@title Reshape testing data\n",
        "test_input = t_data[0].reshape(t_data[0].shape[0],t_data[0].shape[1],1)\n",
        "test_input = test_input.astype('float32')\n",
        "\n",
        "t_lab = t_data[1]\n",
        "t_lab = t_lab.astype('float32')\n",
        "t_lab = to_categorical(t_lab)"
      ],
      "execution_count": null,
      "outputs": []
    },
    {
      "cell_type": "code",
      "metadata": {
        "id": "UixK0ERCuH_K",
        "cellView": "form"
      },
      "source": [
        "#@title Classify the testing data\n",
        "\n",
        "y_predict = ResNet.predict(test_input)\n",
        "y_actual = t_lab"
      ],
      "execution_count": null,
      "outputs": []
    },
    {
      "cell_type": "code",
      "metadata": {
        "cellView": "form",
        "id": "QCRavHX3uMwD"
      },
      "source": [
        "#@title *optional*: Print raw results\n",
        "\n",
        "#predicted labels\n",
        "print(len(y_predict), y_predict.shape)\n",
        "print(y_predict)\n",
        "\n",
        "#actual labels\n",
        "print(len(y_actual), y_actual.shape)\n",
        "print(y_actual)"
      ],
      "execution_count": null,
      "outputs": []
    },
    {
      "cell_type": "code",
      "metadata": {
        "cellView": "form",
        "id": "fiRXPwh3uRyv",
        "colab": {
          "base_uri": "https://localhost:8080/"
        },
        "outputId": "fa9bbc25-3d3f-44b5-eb5f-f05b32c25ef3"
      },
      "source": [
        "#@title Accuracy of ResNet\n",
        "from sklearn.metrics import accuracy_score, f1_score, precision_score\n",
        "\n",
        "acc = (y_predict.argmax(axis=1) == y_actual.argmax(axis=1)).mean()\n",
        "print('Accuracy: {:0.1f}%'.format(100*acc))\n",
        "\n",
        "\n",
        "f1score = f1_score(y_actual.argmax(axis=1), y_predict.argmax(axis=1), average='micro')\n",
        "prec_score = precision_score(y_actual.argmax(axis=1), y_predict.argmax(axis=1), average='micro')\n",
        "print(\"F1 score: \", f1score)\n",
        "print(\"Precision score: \", prec_score)"
      ],
      "execution_count": null,
      "outputs": [
        {
          "output_type": "stream",
          "text": [
            "Accuracy: 90.2%\n",
            "F1 score:  0.9017013232514177\n",
            "Precision score:  0.9017013232514177\n"
          ],
          "name": "stdout"
        }
      ]
    },
    {
      "cell_type": "markdown",
      "metadata": {
        "id": "U77k7_5euZXq"
      },
      "source": [
        "Label the samples for the confusion matrix. Make sure that the labels are in the order of the input data from Part 1.0"
      ]
    },
    {
      "cell_type": "code",
      "metadata": {
        "cellView": "form",
        "id": "UMPMks_Uud7z"
      },
      "source": [
        "SampleOne = \"Asparagine\" #@param {type:\"raw\"}\n",
        "SampleTwo = \"CHAPS\" #@param {type:\"raw\"}\n",
        "SampleThree = \"Glycine\" #@param {type:\"raw\"}\n",
        "SampleFour = \"Histidine\" #@param {type:\"raw\"}\n",
        "SampleFive = \"Leucine\" #@param {type:\"raw\"}\n",
        "SampleSix = \"Lysine\" #@param {type:\"raw\"}\n",
        "SampleSeven =  \"MOPS\" #@param {type:\"raw\"}\n",
        "SampleEight = \"Beta-estradiol\" #@param {type:\"raw\"}\n",
        "SampleNine = \"Chloroquine\" #@param {type:\"raw\"}\n",
        "SampleTen = \"Fluconazole\" #@param {type:\"raw\"}\n",
        "SampleEleven = \"Forskolin\" #@param {type:\"raw\"}\n",
        "SampleTwelve = \"Lauric Acid\" #@param {type:\"raw\"}\n",
        "SampleThirteen = \"Tryptophan\" #@param {type:\"raw\"}  \n",
        "SampleFourteen = \"Maltose Monohydrate\" #@param {type:\"raw\"}\n",
        "SampleFifteen = \"Anthrone\" #@param {type:\"raw\"}\n",
        "SampleSixteen = \"Sodium Dodecyl Sulfate\" #@param {type:\"raw\"}\n",
        "SampleSeventeen = \"Potato Starch\" #@param {type:\"raw\"}\n",
        "SampleEighteen = \"Progesterone\" #@param {type:\"raw\"}\n",
        "SampleNineteen = \"Uridine\" #@param {type:\"raw\"}\n",
        "SampleTwenty = \"Sodium Deoxycholate\" #@param {type:\"raw\"}\n",
        "#SampleTwentyOne = \"Methyl Viologen\" #@param {type:\"raw\"}\n",
        "\n",
        "order = {0,1,2,3,4,5,6,7,8,9,10,11,12,13,14,15,16,17,18,19}\n",
        "\n",
        "chem_species = {}\n",
        "chem_species[0] = SampleOne\n",
        "chem_species[1] = SampleTwo\n",
        "chem_species[2] = SampleThree\n",
        "chem_species[3] = SampleFour\n",
        "chem_species[4] = SampleFive\n",
        "chem_species[5] = SampleSix\n",
        "chem_species[6] = SampleSeven\n",
        "chem_species[7] = SampleEight\n",
        "chem_species[8] = SampleNine\n",
        "chem_species[9] = SampleTen\n",
        "chem_species[10] = SampleEleven\n",
        "chem_species[11] = SampleTwelve\n",
        "chem_species[12] = SampleThirteen\n",
        "chem_species[13] = SampleFourteen\n",
        "chem_species[14] = SampleFifteen\n",
        "chem_species[15] = SampleSixteen\n",
        "chem_species[16] = SampleSeventeen\n",
        "chem_species[17] = SampleEighteen\n",
        "chem_species[18] = SampleNineteen\n",
        "chem_species[19] = SampleTwenty\n",
        "#chem_species[20] = SampleTwentyOne\n"
      ],
      "execution_count": null,
      "outputs": []
    },
    {
      "cell_type": "code",
      "metadata": {
        "cellView": "form",
        "id": "WsZifziUukYb",
        "colab": {
          "base_uri": "https://localhost:8080/",
          "height": 921
        },
        "outputId": "0941edf4-eb00-4aa9-d774-c0bef7d33344"
      },
      "source": [
        "#@title Confusion matrix\n",
        "\n",
        "import seaborn as sns\n",
        "from sklearn.metrics import confusion_matrix\n",
        "\n",
        "\n",
        "sns.set_context(\"talk\", rc={\"font\":\"Helvetica\", \"font.size\":12})\n",
        "label = [chem_species[i] for i in order] \n",
        "#takes a vector of the labels that were previously one-hot encoded\n",
        "con_mat = confusion_matrix(y_actual.argmax(axis=1), \n",
        "                           y_predict.argmax(axis=1))\n",
        "plt.figure(figsize=(15,12))\n",
        "con_mat = 100 * con_mat / con_mat.sum(axis=1)[:,np.newaxis]\n",
        "ax = sns.heatmap(con_mat, annot=True, cmap='YlGnBu', fmt='0.0f',\n",
        "                 xticklabels=label, yticklabels=label)\n",
        "ax.xaxis.tick_top()\n",
        "plt.xticks(rotation=90) \n",
        "plt.show()\n",
        "plt.savefig(f\"{images_dir}/con_mat.png\")"
      ],
      "execution_count": null,
      "outputs": [
        {
          "output_type": "display_data",
          "data": {
            "image/png": "[encoded data removed]",
            "text/plain": [
              "<Figure size 1080x864 with 2 Axes>"
            ]
          },
          "metadata": {
            "tags": [],
            "needs_background": "light"
          }
        },
        {
          "output_type": "display_data",
          "data": {
            "text/plain": [
              "<Figure size 432x288 with 0 Axes>"
            ]
          },
          "metadata": {
            "tags": []
          }
        }
      ]
    }
  ]
}